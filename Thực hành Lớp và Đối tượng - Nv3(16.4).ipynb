{
 "cells": [
  {
   "cell_type": "code",
   "execution_count": null,
   "id": "a42fa0c7",
   "metadata": {},
   "outputs": [],
   "source": [
    "\"\"\"\n",
    "Tạo class có tên SoHoc gồm có các thuộc tính và phương thức sau:\n",
    "+ Thuộc tính: number1, number2\n",
    "+ Phương thức:\n",
    "- Phương thức tạo __init()__\n",
    "- input_info(): dùng để nhập 2 số number1, number2\n",
    "- print_info(): dùng để hiển thị number1, number2\n",
    "- addition(): dùng để cộng number1, number2\n",
    "- subtract(): trừ number1, number2\n",
    "- multi(): dùng để nhân number1, number2\n",
    "- division(): dùng để chia number1, number2.\n",
    "\n",
    "Sau khi tạo class, khởi tạo một object SoHoc và in ra kết quả tính toán từ các hàm thực hiện phép tính\n",
    "\"\"\""
   ]
  },
  {
   "cell_type": "code",
   "execution_count": 10,
   "id": "37d4eda5",
   "metadata": {},
   "outputs": [
    {
     "name": "stdout",
     "output_type": "stream",
     "text": [
      "Nhập number1: 10\n",
      "Nhập number2: 5\n",
      "number1: 10.0\n",
      "number2: 5.0\n",
      "Tổng 2 số: 15.0\n",
      "Hiệu 2 số: 5.0\n",
      "Tích 2 số: 50.0\n",
      "Thương 2 số: 2.0\n"
     ]
    }
   ],
   "source": [
    "class SoHoc():\n",
    "    def __init__(self):\n",
    "        self.number1 = 0\n",
    "        self.number2 = 0\n",
    "    def input_info(self):\n",
    "        self.number1 = float(input(\"Nhập number1: \"))\n",
    "        self.number2 = float(input(\"Nhập number2: \"))\n",
    "    def print_info(self):\n",
    "        print(f\"number1: {self.number1}\")\n",
    "        print(f\"number2: {self.number2}\")\n",
    "    def addition(self):\n",
    "        add = self.number1 + self.number2\n",
    "        return add\n",
    "    def subtract(self):\n",
    "        sub = self.number1 - self.number2\n",
    "        return sub\n",
    "    def multi(self):\n",
    "        mul = self.number1 * self.number2\n",
    "        return mul\n",
    "    def division(self):\n",
    "        div = self.number1 / self.number2\n",
    "        return div\n",
    "\n",
    "sohoc1 = SoHoc()\n",
    "sohoc1.input_info()\n",
    "sohoc1.print_info()\n",
    "print(f\"Tổng 2 số: {sohoc1.addition()}\")\n",
    "print(f\"Hiệu 2 số: {sohoc1.subtract()}\")\n",
    "print(f\"Tích 2 số: {sohoc1.multi()}\")\n",
    "print(f\"Thương 2 số: {sohoc1.division()}\")\n",
    "\n",
    "\n"
   ]
  }
 ],
 "metadata": {
  "kernelspec": {
   "display_name": "Python 3 (ipykernel)",
   "language": "python",
   "name": "python3"
  },
  "language_info": {
   "codemirror_mode": {
    "name": "ipython",
    "version": 3
   },
   "file_extension": ".py",
   "mimetype": "text/x-python",
   "name": "python",
   "nbconvert_exporter": "python",
   "pygments_lexer": "ipython3",
   "version": "3.10.2"
  }
 },
 "nbformat": 4,
 "nbformat_minor": 5
}
