{
 "cells": [
  {
   "cell_type": "markdown",
   "id": "33f9d7a5",
   "metadata": {},
   "source": [
    "# Cấu trúc lặp for trong python"
   ]
  },
  {
   "attachments": {
    "image.png": {
     "image/png": "[encoded data removed]"
    }
   },
   "cell_type": "markdown",
   "id": "f64c9eae",
   "metadata": {},
   "source": [
    "## Review: Vẽ kim tự tháp\n",
    "![image.png](attachment:image.png)"
   ]
  },
  {
   "cell_type": "code",
   "execution_count": 1,
   "id": "ffcb1603",
   "metadata": {},
   "outputs": [],
   "source": [
    "import turtle\n",
    "pen = turtle.Turtle()\n",
    "s = 10\n",
    "for i in range(5):\n",
    "    pen.circle(s, steps=3)\n",
    "    s += 10\n",
    "\n",
    "turtle.done()"
   ]
  },
  {
   "cell_type": "markdown",
   "id": "35ef7a35",
   "metadata": {},
   "source": [
    "## for kết hợp với hàm range()"
   ]
  },
  {
   "cell_type": "markdown",
   "id": "80e01298",
   "metadata": {},
   "source": [
    "### Trường hợp 1 tham số"
   ]
  },
  {
   "cell_type": "code",
   "execution_count": 2,
   "id": "b56eadb4",
   "metadata": {},
   "outputs": [
    {
     "name": "stdout",
     "output_type": "stream",
     "text": [
      "0\n",
      "1\n",
      "2\n",
      "3\n",
      "4\n",
      "5\n",
      "6\n",
      "7\n",
      "8\n",
      "9\n",
      "10\n"
     ]
    }
   ],
   "source": [
    "# In số từ 1-10\n",
    "for i in range(11):\n",
    "    print(i)"
   ]
  },
  {
   "cell_type": "markdown",
   "id": "b4eb03ed",
   "metadata": {},
   "source": [
    "### Ví dụ: In các số lẻ từ 0 đến 100"
   ]
  },
  {
   "cell_type": "code",
   "execution_count": 3,
   "id": "f73caa14",
   "metadata": {},
   "outputs": [
    {
     "name": "stdout",
     "output_type": "stream",
     "text": [
      "1\n",
      "3\n",
      "5\n",
      "7\n",
      "9\n",
      "11\n",
      "13\n",
      "15\n",
      "17\n",
      "19\n",
      "21\n",
      "23\n",
      "25\n",
      "27\n",
      "29\n",
      "31\n",
      "33\n",
      "35\n",
      "37\n",
      "39\n",
      "41\n",
      "43\n",
      "45\n",
      "47\n",
      "49\n",
      "51\n",
      "53\n",
      "55\n",
      "57\n",
      "59\n",
      "61\n",
      "63\n",
      "65\n",
      "67\n",
      "69\n",
      "71\n",
      "73\n",
      "75\n",
      "77\n",
      "79\n",
      "81\n",
      "83\n",
      "85\n",
      "87\n",
      "89\n",
      "91\n",
      "93\n",
      "95\n",
      "97\n",
      "99\n"
     ]
    }
   ],
   "source": [
    "for i in range(101):\n",
    "    if i % 2:\n",
    "        print(i)"
   ]
  },
  {
   "cell_type": "markdown",
   "id": "5b4c7f1c",
   "metadata": {},
   "source": [
    "### Trường hợp 2 tham số"
   ]
  },
  {
   "cell_type": "code",
   "execution_count": 2,
   "id": "ab369d26",
   "metadata": {},
   "outputs": [
    {
     "name": "stdout",
     "output_type": "stream",
     "text": [
      "10\n",
      "11\n",
      "12\n",
      "13\n",
      "14\n",
      "15\n",
      "16\n",
      "17\n",
      "18\n",
      "19\n",
      "20\n"
     ]
    }
   ],
   "source": [
    "# In ra các số 10 - 20 \n",
    "for i in range(10, 21):\n",
    "    print(i)"
   ]
  },
  {
   "cell_type": "markdown",
   "id": "06853353",
   "metadata": {},
   "source": [
    "### Ví dụ: In các số chia hết cho 7 từ a đến b"
   ]
  },
  {
   "cell_type": "code",
   "execution_count": 9,
   "id": "7b21bcdf",
   "metadata": {},
   "outputs": [
    {
     "name": "stdout",
     "output_type": "stream",
     "text": [
      "1505\n",
      "1512\n",
      "1519\n",
      "1526\n",
      "1533\n",
      "1540\n",
      "1547\n",
      "1554\n",
      "1561\n",
      "1568\n",
      "1575\n",
      "1582\n",
      "1589\n",
      "1596\n"
     ]
    }
   ],
   "source": [
    "a = 1500\n",
    "b = 1600\n",
    "for i in range(a, b + 1):\n",
    "    if not i % 7:\n",
    "        print(i)"
   ]
  },
  {
   "cell_type": "markdown",
   "id": "5f784920",
   "metadata": {},
   "source": [
    "### Trường hợp 3 tham số"
   ]
  },
  {
   "cell_type": "code",
   "execution_count": 10,
   "id": "f6b32018",
   "metadata": {},
   "outputs": [
    {
     "name": "stdout",
     "output_type": "stream",
     "text": [
      "1500\n",
      "1506\n",
      "1512\n",
      "1518\n",
      "1524\n",
      "1530\n",
      "1536\n",
      "1542\n",
      "1548\n",
      "1554\n",
      "1560\n",
      "1566\n",
      "1572\n",
      "1578\n",
      "1584\n",
      "1590\n",
      "1596\n"
     ]
    }
   ],
   "source": [
    "a = 1500\n",
    "b = 1600\n",
    "for i in range(a, b + 1, 6):\n",
    "    if not i % 3:\n",
    "        print(i)"
   ]
  },
  {
   "cell_type": "markdown",
   "id": "a4c0fc85",
   "metadata": {},
   "source": [
    "### Ví dụ: Biểu diễn cấp số cộng"
   ]
  },
  {
   "cell_type": "code",
   "execution_count": 13,
   "id": "9e9a5cbf",
   "metadata": {},
   "outputs": [
    {
     "name": "stdout",
     "output_type": "stream",
     "text": [
      "0\n",
      "4\n",
      "8\n",
      "12\n",
      "16\n",
      "20\n",
      "24\n",
      "28\n",
      "32\n",
      "36\n",
      "40\n",
      "44\n",
      "48\n",
      "52\n",
      "56\n",
      "60\n",
      "64\n",
      "68\n",
      "72\n",
      "76\n",
      "80\n",
      "84\n",
      "88\n",
      "92\n",
      "96\n",
      "1200\n"
     ]
    }
   ],
   "source": [
    "s = 0\n",
    "for i in range(0, 100, 4):\n",
    "    print(i)\n",
    "    s = s + i\n",
    "print(s)"
   ]
  },
  {
   "cell_type": "markdown",
   "id": "a2a61887",
   "metadata": {},
   "source": [
    "## lặp qua một chuỗi"
   ]
  },
  {
   "cell_type": "code",
   "execution_count": 3,
   "id": "e495f392",
   "metadata": {},
   "outputs": [
    {
     "name": "stdout",
     "output_type": "stream",
     "text": [
      "20\n",
      "C\n",
      "h\n",
      "u\n",
      " \n",
      "T\n",
      "r\n",
      "i\n",
      "ệ\n",
      "u\n",
      " \n",
      "Q\n",
      "u\n",
      "ố\n",
      "c\n",
      " \n",
      "K\n",
      "h\n",
      "á\n",
      "n\n",
      "h\n"
     ]
    }
   ],
   "source": [
    "name = \"Chu Triệu Quốc Khánh\"\n",
    "print(len(name))\n",
    "for i in range(len(name)):\n",
    "    print(name[i])"
   ]
  },
  {
   "cell_type": "code",
   "execution_count": 4,
   "id": "b978f7b2",
   "metadata": {},
   "outputs": [
    {
     "name": "stdout",
     "output_type": "stream",
     "text": [
      "Chu Triệu Quốc Khánh"
     ]
    }
   ],
   "source": [
    "for i in name:\n",
    "    print(i,end=\"\")"
   ]
  },
  {
   "cell_type": "markdown",
   "id": "a4013631",
   "metadata": {},
   "source": [
    "### Ví dụ: Đếm số lượng nguyên âm trong chuỗi"
   ]
  },
  {
   "cell_type": "code",
   "execution_count": 8,
   "id": "319bfb92",
   "metadata": {},
   "outputs": [
    {
     "name": "stdout",
     "output_type": "stream",
     "text": [
      "Nhập vào một chuỗi bất kỳ: chu trieu quoc khanh\n",
      " Số lượng nguyên âm của chuỗi vừa nhập là: 7\n"
     ]
    }
   ],
   "source": [
    "name = input(\"Nhập vào một chuỗi bất kỳ: \")\n",
    "count = 0\n",
    "for i in name:\n",
    "    if i == \"u\" or i == \"e\" or i == \"o\" or i == \"a\" or i == \"i\":\n",
    "        count += 1\n",
    "print(f\" Số lượng nguyên âm của chuỗi vừa nhập là: {count}\")"
   ]
  },
  {
   "cell_type": "markdown",
   "id": "49bf78d3",
   "metadata": {},
   "source": [
    "## Lặp qua một danh sách chuỗi"
   ]
  },
  {
   "cell_type": "code",
   "execution_count": 9,
   "id": "0a5874cf",
   "metadata": {
    "scrolled": true
   },
   "outputs": [
    {
     "name": "stdout",
     "output_type": "stream",
     "text": [
      "khanh\n",
      "duy\n",
      "hoang\n"
     ]
    }
   ],
   "source": [
    "list_student = ['khanh', \"duy\", 'hoang']\n",
    "for i in range(len(list_student)):\n",
    "    print(list_student[i])"
   ]
  },
  {
   "cell_type": "markdown",
   "id": "be1b5ba5",
   "metadata": {},
   "source": [
    "### Ví dụ: Tìm chuỗi dài nhất"
   ]
  },
  {
   "cell_type": "code",
   "execution_count": 15,
   "id": "d6e7ef2c",
   "metadata": {
    "scrolled": true
   },
   "outputs": [
    {
     "name": "stdout",
     "output_type": "stream",
     "text": [
      "9\n"
     ]
    }
   ],
   "source": [
    "food = ['shanwich', 'BBQ', 'hamberger']\n",
    "max1 = len(food[0]) \n",
    "max2 = food[0] \n",
    "for i in range(len(food)):\n",
    "    if len(food[i]) > max1:\n",
    "        max1 = len(food[i])\n",
    "        max2 = food[i]\n",
    "print(max1)\n",
    "        \n"
   ]
  },
  {
   "cell_type": "code",
   "execution_count": 12,
   "id": "afd3cb4a",
   "metadata": {},
   "outputs": [
    {
     "name": "stdout",
     "output_type": "stream",
     "text": [
      "canh\n"
     ]
    }
   ],
   "source": [
    "food = ['ga','canh','com','ran']\n",
    "max_1 = len(food[0])\n",
    "max_2 = food[0]\n",
    "for i in range(len(food)):\n",
    "    if len(food[i]) > max_1:\n",
    "        max_1 = len(food[i])\n",
    "        max_2 = food[i]\n",
    "print(max_2)"
   ]
  },
  {
   "cell_type": "code",
   "execution_count": 11,
   "id": "bec2b93c",
   "metadata": {},
   "outputs": [
    {
     "name": "stdout",
     "output_type": "stream",
     "text": [
      "canh\n"
     ]
    }
   ],
   "source": [
    "list_food = ['ga','canh','com','ran']\n",
    "max_l = len(list_food[0])\n",
    "max_s = list_food[0]\n",
    "for i in range(len(list_food)):\n",
    "    if len(list_food[i]) > max_l:\n",
    "        max_l = len(list_food[i])\n",
    "        max_s = list_food[i]\n",
    "print(max_s)"
   ]
  },
  {
   "cell_type": "markdown",
   "id": "69fa4d9f",
   "metadata": {},
   "source": [
    "## Vòng lặp lồng nhau"
   ]
  },
  {
   "cell_type": "code",
   "execution_count": 16,
   "id": "864bc218",
   "metadata": {},
   "outputs": [
    {
     "name": "stdout",
     "output_type": "stream",
     "text": [
      "NHập chiều cao: 5\n",
      "+-*+-\n",
      "+-*+\n",
      "+-*\n",
      "+-\n",
      "+\n"
     ]
    }
   ],
   "source": [
    "height = int(input(\"NHập chiều cao: \"))\n",
    "for i in range(height,0,-1):\n",
    "    for j in range(i):\n",
    "        if j % 3 == 1:\n",
    "            print(\"-\", end=\"\")\n",
    "        elif j % 3 == 2:\n",
    "            print(\"*\", end=\"\")\n",
    "        else:\n",
    "            print(\"+\", end=\"\")\n",
    "    print()#xuống dòng"
   ]
  },
  {
   "cell_type": "code",
   "execution_count": 17,
   "id": "63cfba0b",
   "metadata": {
    "scrolled": true
   },
   "outputs": [
    {
     "name": "stdout",
     "output_type": "stream",
     "text": [
      "NHập chiều cao: 6\n",
      "++++++\n",
      "+++++\n",
      "++++\n",
      "+++\n",
      "++\n",
      "+\n"
     ]
    }
   ],
   "source": [
    "height = int(input(\"NHập chiều cao: \"))\n",
    "for i in range(height,0,-1):\n",
    "    print(\"+\"*i)"
   ]
  },
  {
   "cell_type": "code",
   "execution_count": 21,
   "id": "7496f245",
   "metadata": {},
   "outputs": [
    {
     "name": "stdout",
     "output_type": "stream",
     "text": [
      "Nhập chiều cao mong muốn6\n",
      "*\n",
      "*-\n",
      "*-/\n",
      "*-/+\n",
      "*-/+*\n",
      "*-/+*-\n"
     ]
    }
   ],
   "source": [
    "'''\n",
    "*\n",
    "*-\n",
    "*-/\n",
    "*-/+\n",
    "*-/+*\n",
    "*-/+*-\n",
    "*-/+*-/\n",
    "*-/+*-/+'''\n",
    "height = int(input(\"Nhập chiều cao mong muốn\"))\n",
    "for i in range(1,height+1):\n",
    "    for j in range(i):\n",
    "        if j % 4 == 1:\n",
    "            print(\"-\", end=\"\")\n",
    "        elif j % 4 == 2:\n",
    "            print(\"/\", end=\"\")\n",
    "        elif j % 4 == 3:\n",
    "            print(\"+\", end=\"\")\n",
    "        else:\n",
    "            print(\"*\", end=\"\")\n",
    "    print()"
   ]
  }
 ],
 "metadata": {
  "kernelspec": {
   "display_name": "Python 3 (ipykernel)",
   "language": "python",
   "name": "python3"
  },
  "language_info": {
   "codemirror_mode": {
    "name": "ipython",
    "version": 3
   },
   "file_extension": ".py",
   "mimetype": "text/x-python",
   "name": "python",
   "nbconvert_exporter": "python",
   "pygments_lexer": "ipython3",
   "version": "3.10.2"
  }
 },
 "nbformat": 4,
 "nbformat_minor": 5
}
