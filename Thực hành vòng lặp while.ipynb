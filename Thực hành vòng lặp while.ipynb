{
 "cells": [
  {
   "cell_type": "code",
   "execution_count": null,
   "id": "272a3a95",
   "metadata": {},
   "outputs": [],
   "source": [
    "'''\n",
    "Khởi động 1: Viết chương trình in ra tất cả các số chia hết cho cả 5 và 7 trong khoảng từ 1500 đến 2700\n",
    "'''"
   ]
  },
  {
   "cell_type": "code",
   "execution_count": 4,
   "id": "18dbe371",
   "metadata": {},
   "outputs": [
    {
     "name": "stdout",
     "output_type": "stream",
     "text": [
      "1505\n",
      "1540\n",
      "1575\n",
      "1610\n",
      "1645\n",
      "1680\n",
      "1715\n",
      "1750\n",
      "1785\n",
      "1820\n",
      "1855\n",
      "1890\n",
      "1925\n",
      "1960\n",
      "1995\n",
      "2030\n",
      "2065\n",
      "2100\n",
      "2135\n",
      "2170\n",
      "2205\n",
      "2240\n",
      "2275\n",
      "2310\n",
      "2345\n",
      "2380\n",
      "2415\n",
      "2450\n",
      "2485\n",
      "2520\n",
      "2555\n",
      "2590\n",
      "2625\n",
      "2660\n",
      "2695\n"
     ]
    }
   ],
   "source": [
    "i = 1500\n",
    "while i < 2700:\n",
    "    if not i % 35:\n",
    "        print(i)\n",
    "    i += 1"
   ]
  },
  {
   "cell_type": "code",
   "execution_count": 7,
   "id": "87f74c6c",
   "metadata": {},
   "outputs": [
    {
     "name": "stdout",
     "output_type": "stream",
     "text": [
      "Nhập chiều cao : 7\n",
      "*******\n",
      "******\n",
      "*****\n",
      "****\n",
      "***\n",
      "**\n",
      "*\n"
     ]
    }
   ],
   "source": [
    "'''\n",
    "Bài 1: Viết chương trình nhập vào chiều cao tam giác vuông và in ra tam giác có hình dạng như sau:\n",
    "*****\n",
    "****\n",
    "***\n",
    "** \n",
    "*\n",
    "'''\n",
    "height = int(input(\"Nhập chiều cao : \"))\n",
    "i = height\n",
    "\n",
    "while i >= 1:\n",
    "    print(i * \"*\")\n",
    "    i -= 1"
   ]
  },
  {
   "cell_type": "code",
   "execution_count": 15,
   "id": "ea4c14a8",
   "metadata": {},
   "outputs": [
    {
     "name": "stdout",
     "output_type": "stream",
     "text": [
      "Nhập chiều cao : 8\n",
      "* * * * * * * * \n",
      "* * * * * * * \n",
      "* * * * * * \n",
      "* * * * * \n",
      "* * * * \n",
      "* * * \n",
      "* * \n",
      "*\n"
     ]
    }
   ],
   "source": [
    "'''\n",
    "Bài 2: Viết chương trình nhập vào chiều cao tam giác vuông và in ra tam giác có hình dạng như sau:\n",
    "* * * * * *\n",
    "* * * * *\n",
    "* * * *\n",
    "* * *\n",
    "* *\n",
    "*\n",
    "'''\n",
    "height = int(input(\"Nhập chiều cao : \"))\n",
    "i = height\n",
    "\n",
    "while i >= 2:    \n",
    "    print(i * \"* \")\n",
    "    i -= 1\n",
    "print(\"*\")"
   ]
  },
  {
   "cell_type": "code",
   "execution_count": 10,
   "id": "bd17e085",
   "metadata": {
    "scrolled": true
   },
   "outputs": [
    {
     "name": "stdout",
     "output_type": "stream",
     "text": [
      "Nhập chiều cao tam giác: 5\n",
      "* - * - *\n",
      "* - * -\n",
      "* - *\n",
      "* -\n",
      "*\n"
     ]
    }
   ],
   "source": [
    "'''\n",
    "Bài 3: Viết chương trình nhập vào chiều cao tam giác vuông và in ra tam giác có hình dạng như sau:\n",
    "* - * - *\n",
    "* - * -\n",
    "* - *\n",
    "* -\n",
    "*\n",
    "'''\n",
    "height = int(input(\"Nhập chiều cao tam giác: \"))\n",
    "i = height\n",
    "\n",
    "while i >= 1:\n",
    "    \n",
    "    j = 0\n",
    "    while j < i:\n",
    "        if j % 2 == 0:\n",
    "            print('*', end='')\n",
    "        else:\n",
    "            print('-', end='')\n",
    "        \n",
    "        if j < i - 1:\n",
    "            print(' ', end='')\n",
    "        j += 1\n",
    "    print()\n",
    "    \n",
    "    i -= 1\n",
    "\n"
   ]
  },
  {
   "cell_type": "code",
   "execution_count": 8,
   "id": "74f8292d",
   "metadata": {
    "scrolled": true
   },
   "outputs": [
    {
     "name": "stdout",
     "output_type": "stream",
     "text": [
      "nhap chieu cao: 5\n",
      "* - * - *\n",
      "* - * - \n",
      "* - *\n",
      "* - \n",
      "*\n",
      "\n"
     ]
    }
   ],
   "source": [
    "height = int(input(\"nhap chieu cao: \"))\n",
    "i = height\n",
    "while i >= 0:\n",
    "    if i %2 != 0:\n",
    "        print((i//2)*'* - '+'*')\n",
    "        i = i - 1\n",
    "    else:\n",
    "        print((i//2)*'* - ')\n",
    "        i = i - 1\n"
   ]
  },
  {
   "cell_type": "code",
   "execution_count": 9,
   "id": "3797ffec",
   "metadata": {},
   "outputs": [
    {
     "name": "stdout",
     "output_type": "stream",
     "text": [
      "Chiều cao tam giác vuông: 5\n",
      "* _ * _ *\n",
      "* _ * _ \n",
      "* _ *\n",
      "* _ \n",
      "*\n"
     ]
    }
   ],
   "source": [
    "l = int(input(\"Chiều cao tam giác vuông: \"))\n",
    "i = l\n",
    "string = \"* _ \"\n",
    "while i >= 1:\n",
    "    print(string*(i//2) + string[0:i%2]) \n",
    "    i -= 1\n"
   ]
  },
  {
   "cell_type": "code",
   "execution_count": 18,
   "id": "105b66bc",
   "metadata": {},
   "outputs": [
    {
     "name": "stdout",
     "output_type": "stream",
     "text": [
      "nhập n: 30\n",
      "1\n",
      "2\n",
      "py\n",
      "4\n",
      "5\n",
      "py\n",
      "thon\n",
      "8\n",
      "py\n",
      "10\n",
      "11\n",
      "py\n",
      "13\n",
      "thon\n",
      "py\n",
      "16\n",
      "17\n",
      "py\n",
      "19\n",
      "20\n",
      "python\n",
      "22\n",
      "23\n",
      "py\n",
      "25\n",
      "26\n",
      "py\n",
      "thon\n",
      "29\n"
     ]
    }
   ],
   "source": [
    "'''\n",
    "Bài 4: Viết chương trình nhập vào một số nguyên n và in ra các số từ 1 đến n với các trường hợp ngoại lệ như sau:\n",
    "- Nếu số đó chia hết cho 3 thì in \"py\"\n",
    "- Nếu số đó chia hết cho 7 thì in \"thon\"\n",
    "- Nếu số đó chia hết cho cả 3 và 4 thì in \"python\"\n",
    "\n",
    "Ví dụ: n = 25\n",
    "1\n",
    "2\n",
    "py\n",
    "4\n",
    "5\n",
    "py\n",
    "thon\n",
    "8\n",
    "py\n",
    "10\n",
    "11\n",
    "py\n",
    "13\n",
    "thon\n",
    "py\n",
    "16\n",
    "17\n",
    "py\n",
    "19\n",
    "20\n",
    "python\n",
    "22\n",
    "23\n",
    "py\n",
    "25\n",
    "'''\n",
    "n = int(input(\"nhập n: \"))\n",
    "i = 1\n",
    "while i < n:\n",
    "    if not i % 3:\n",
    "        if not i % 7:\n",
    "            print(\"python\")\n",
    "        else:\n",
    "            print(\"py\")\n",
    "    elif not i % 7:\n",
    "        print(\"thon\")\n",
    "    else:\n",
    "        print(i)\n",
    "    i += 1"
   ]
  },
  {
   "cell_type": "code",
   "execution_count": 1,
   "id": "3689744c",
   "metadata": {},
   "outputs": [
    {
     "name": "stdout",
     "output_type": "stream",
     "text": [
      "Nhập 1 số bất kỳ : 6\n",
      "6 không là số nguyên tố\n"
     ]
    }
   ],
   "source": [
    "'''\n",
    "Bài 5: Viết chương trình nhập vào một số và kiểm tra xem số đó có phải là số nguyên tố hay không\n",
    "Note: Số nguyên tố là số chỉ chia hết cho 1 và chính nó\n",
    "'''\n",
    "num = int(input(\"Nhập 1 số bất kỳ : \"))\n",
    "i = 2\n",
    "if num == 1:\n",
    "    print(num,\"không là số nguyên tố\")\n",
    "elif num == 2:\n",
    "    print(num,\"là số nguyên tố\")\n",
    "while i < num:\n",
    "    if num % i :\n",
    "        i += 1\n",
    "        if i == num:\n",
    "            print(num,\"là số nguyên tố\")\n",
    "            \n",
    "    else:\n",
    "        print(num,\"không là số nguyên tố\")        \n",
    "        break\n",
    "        "
   ]
  },
  {
   "cell_type": "code",
   "execution_count": 7,
   "id": "d76fa311",
   "metadata": {},
   "outputs": [
    {
     "name": "stdout",
     "output_type": "stream",
     "text": [
      "Mời lựa chọn(1 - búa, 2 - kéo, 3 - bao)1\n",
      "computer chọn: 1\n",
      "Hòa\n",
      "Mời lựa chọn(1 - búa, 2 - kéo, 3 - bao)2\n",
      "computer chọn: 2\n",
      "Hòa\n",
      "Mời lựa chọn(1 - búa, 2 - kéo, 3 - bao)3\n",
      "computer chọn: 1\n",
      "Người chơi thắng\n"
     ]
    }
   ],
   "source": [
    "'''\n",
    "Bài 6: Viết chương trình mô phỏng trò chơi kéo búa bao theo luật chơi như sau:\n",
    "Quy ước: 1 - búa, 2 - kéo, 3 - bao\n",
    "Khi trò chơi bắt đầu, yêu cầu người chơi nhập 1 số từ bàn phím đại diện cho kéo, búa, bao\n",
    "Chương trình tự random ra một lựa chọn từ 1 đến 3.\n",
    "Nếu người chơi thua thì tiếp tục chơi cho đến khi thắng thì kết thúc chương trình.\n",
    "Ví dụ:\n",
    "\n",
    "Mời lựa chọn(1 - búa, 2 - kéo, 3 - bao): 1\n",
    "Máy tính chọn: 3\n",
    "Người chơi thua.\n",
    "\n",
    "Mời lựa chọn(1 - búa, 2 - kéo, 3 - bao): 2\n",
    "Máy tính chọn: 1\n",
    "Người chơi thua.\n",
    "\n",
    "Mời lựa chọn(1 - búa, 2 - kéo, 3 - bao): 1\n",
    "Máy tính chọn: 2\n",
    "Người chơi thắng.\n",
    "'''\n",
    "from random import randint\n",
    "\n",
    "win = False\n",
    "while win == False:\n",
    "    player = int(input(\"Mời lựa chọn(1 - búa, 2 - kéo, 3 - bao)\"))\n",
    "    computer = randint(1,3)\n",
    "    print(f\"computer chọn: {computer}\")\n",
    "    if computer > 1 and computer - player == 1:\n",
    "        print(\"Người chơi thắng\")\n",
    "        break\n",
    "    elif computer == 1 and player == 3:\n",
    "        print(\"Người chơi thắng\")\n",
    "        break\n",
    "    elif computer == player:\n",
    "        print(\"Hòa\")\n",
    "    else:\n",
    "        print(\"Người chơi thua\")"
   ]
  }
 ],
 "metadata": {
  "kernelspec": {
   "display_name": "Python 3 (ipykernel)",
   "language": "python",
   "name": "python3"
  },
  "language_info": {
   "codemirror_mode": {
    "name": "ipython",
    "version": 3
   },
   "file_extension": ".py",
   "mimetype": "text/x-python",
   "name": "python",
   "nbconvert_exporter": "python",
   "pygments_lexer": "ipython3",
   "version": "3.10.2"
  }
 },
 "nbformat": 4,
 "nbformat_minor": 5
}
