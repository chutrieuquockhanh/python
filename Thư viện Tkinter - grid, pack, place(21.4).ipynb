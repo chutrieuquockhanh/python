{
 "cells": [
  {
   "cell_type": "code",
   "execution_count": null,
   "id": "334dfc6d",
   "metadata": {},
   "outputs": [],
   "source": []
  },
  {
   "cell_type": "markdown",
   "id": "4c559a90",
   "metadata": {},
   "source": [
    "## pack\n",
    "\n",
    "Lệnh `pack()` sẽ giúp sắp xếp các đối tượng theo thứ tự nhất định"
   ]
  },
  {
   "cell_type": "code",
   "execution_count": null,
   "id": "d6af98e3",
   "metadata": {},
   "outputs": [],
   "source": [
    "from tkinter import *\n",
    "wd = Tk()\n",
    "wd.title(\"Registration\")\n",
    "regis_text = Label(wd, text=\"Registration\")\n",
    "name_text = Label(wd, text=\"Full name\")\n",
    "add_text = Label(wd, text=\"Address\")\n",
    "email_text = Label(wd, text=\"Email\")\n",
    "\n",
    "name_input = Entry(wd)\n",
    "add_input = Entry(wd)\n",
    "email_input = Entry(wd)\n",
    "\n",
    "register_btn = Button(wd, text=\"Register\")\n",
    "\n",
    "regis_text.pack()\n",
    "name_text.pack()\n",
    "name_input.pack()\n",
    "add_text.pack()\n",
    "add_input.pack()\n",
    "email_text.pack()\n",
    "email_input.pack()\n",
    "register_btn.pack()\n",
    "wd.mainloop()"
   ]
  },
  {
   "cell_type": "markdown",
   "id": "0093b00d",
   "metadata": {},
   "source": [
    "## grid"
   ]
  },
  {
   "cell_type": "code",
   "execution_count": 5,
   "id": "d89cd306",
   "metadata": {},
   "outputs": [],
   "source": [
    "from tkinter import *\n",
    "windows = Tk()\n",
    "windows.title(\"Registration\")\n",
    "\n",
    "registration_lbl = Label(windows, text=\"Registration\")\n",
    "fullname_lbl = Label(windows, text=\"Full name\")\n",
    "address_lbl = Label(windows, text=\"Address\")\n",
    "email_lbl = Label(windows, text=\"Email\")\n",
    "\n",
    "regiatration_entry = Entry(windows)\n",
    "fullname_entry = Entry(windows)\n",
    "address_entry = Entry(windows)\n",
    "email_entry = Entry(windows)\n",
    "\n",
    "register_btn = Button(windows, text=\"Register\")\n",
    "login_btn = Button(windows, text=\"Login\")\n",
    "\n",
    "registration_lbl.grid(row=0, column=0, columnspan=2)\n",
    "fullname_lbl.grid(row=1, column=0)\n",
    "address_lbl.grid(row=2, column=0)\n",
    "email_lbl.grid(row=3, column=0)\n",
    "\n",
    "fullname_entry.grid(row=1, column=1)\n",
    "address_entry.grid(row=2, column=1)\n",
    "email_entry.grid(row=3, column=1)\n",
    "\n",
    "text.grid(row=4, column=0)\n",
    "\n",
    "register_btn.grid(row=4, column=2)\n",
    "login_btn.grid(row=4, column=3)\n",
    "\n",
    "windows.mainloop()"
   ]
  },
  {
   "cell_type": "markdown",
   "id": "f0a05577",
   "metadata": {},
   "source": [
    "## place"
   ]
  },
  {
   "cell_type": "code",
   "execution_count": null,
   "id": "070e6374",
   "metadata": {},
   "outputs": [],
   "source": [
    "from tkinter import *\n",
    "windows = Tk()\n",
    "windows.title(\"Registration\")\n",
    "\n",
    "registration_lbl = Label(windows, text=\"Registration\")\n",
    "fullname_lbl = Label(windows, text=\"Full name\")\n",
    "address_lbl = Label(windows, text=\"Address\")\n",
    "email_lbl = Label(windows, text=\"Email\")\n",
    "\n",
    "regiatration_entry = Entry(windows)\n",
    "fullname_entry = Entry(windows)\n",
    "address_entry = Entry(windows)\n",
    "email_entry = Entry(windows)\n",
    "\n",
    "register_btn = Button(windows, text=\"Register\")\n",
    "login_btn = Button(windows, text=\"Login\")\n",
    "\n",
    "registration_lbl\n",
    "fullname_lbl\n",
    "address_lbl\n",
    "email_lbl\n",
    "\n",
    "regiatration_entry\n",
    "fullname_entry\n",
    "address_entry\n",
    "email_entry\n",
    "\n",
    "register_btn\n",
    "login_btn\n",
    "\n",
    "\n",
    "\n",
    "\n",
    "windows.mainloop()"
   ]
  }
 ],
 "metadata": {
  "kernelspec": {
   "display_name": "Python 3 (ipykernel)",
   "language": "python",
   "name": "python3"
  },
  "language_info": {
   "codemirror_mode": {
    "name": "ipython",
    "version": 3
   },
   "file_extension": ".py",
   "mimetype": "text/x-python",
   "name": "python",
   "nbconvert_exporter": "python",
   "pygments_lexer": "ipython3",
   "version": "3.10.2"
  }
 },
 "nbformat": 4,
 "nbformat_minor": 5
}
