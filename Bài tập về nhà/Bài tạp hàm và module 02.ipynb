{
 "cells": [
  {
   "cell_type": "code",
   "execution_count": 26,
   "id": "aeca7321",
   "metadata": {
    "scrolled": true
   },
   "outputs": [
    {
     "name": "stdout",
     "output_type": "stream",
     "text": [
      "[0, 5, 48, 54, 65, 54, 857, 15]\n"
     ]
    }
   ],
   "source": [
    "# Hàm chuyển số lớn nhất \n",
    "number = [0, 5 , 48, 54, 65, 4152, 54 ,857, 15]\n",
    "def remove_largest_number(number):\n",
    "    max = 0\n",
    "    for i in number:\n",
    "        if i > max:\n",
    "            max = i\n",
    "    number.remove(max)\n",
    "remove_largest_number(number)\n",
    "print(number)"
   ]
  },
  {
   "cell_type": "code",
   "execution_count": 1,
   "id": "13a21aa5",
   "metadata": {},
   "outputs": [],
   "source": [
    "# vẽ hình vuông để tọa ra hình tròn\n",
    "import turtle\n",
    "def draw_square_circle(width, angle):\n",
    "    p = turtle.Turtle()\n",
    "    p.pencolor(\"green\")\n",
    "    p.speed(20)\n",
    "    step = int(360 / angle)\n",
    "    \n",
    "    for i in range(step):\n",
    "        for j in range(4):\n",
    "            p.fd(width)\n",
    "            p.lt(90)\n",
    "        p.lt(angle)\n",
    "    turtle.done()\n",
    "draw_square_circle(100, 5)      "
   ]
  },
  {
   "cell_type": "code",
   "execution_count": 3,
   "id": "88d3b09d",
   "metadata": {},
   "outputs": [
    {
     "name": "stdout",
     "output_type": "stream",
     "text": [
      "['orange', 'mango', 'appple', 'grapes', 'ba']\n"
     ]
    }
   ],
   "source": [
    "#Hiển thị danh sách quả yêu thích\n",
    "fruits = [\"orange\", \"mango\", \"appple\", \"grapes\" ]\n",
    "def add_fruits(fruits, add_fruit):\n",
    "    fruits.append(add_fruit)\n",
    "add_fruits(fruits, \"banana\")\n",
    "print(fruits)"
   ]
  },
  {
   "cell_type": "code",
   "execution_count": 7,
   "id": "bd3ba47e",
   "metadata": {
    "scrolled": true
   },
   "outputs": [
    {
     "name": "stdout",
     "output_type": "stream",
     "text": [
      "Nhập số tứ nhất: 45\n",
      "Nhập số thứ hai: 5\n",
      "Nhập phép tính + , -, *, /: +\n",
      "45 + 5 = 50\n"
     ]
    }
   ],
   "source": [
    "# Tạo máy tính đơn giản\n",
    "def add(num1, num2):\n",
    "    return num1 + num2\n",
    "def sub(num1, num2):\n",
    "    return num1 - num2\n",
    "def mul(num1, num2):\n",
    "    return num1 * num2\n",
    "def div(num1, num2):\n",
    "    return num1 / num2\n",
    "num1 = int(input(\"Nhập số tứ nhất: \"))\n",
    "num2 = int(input(\"Nhập số thứ hai: \"))\n",
    "option = input(\"Nhập phép tính + , -, *, /: \")\n",
    "if option == \"+\":\n",
    "    print(f\"{num1} + {num2} = {add(num1, num2)}\")\n",
    "elif option == \"-\":\n",
    "    print(f\"{num1} - {num2} = {sub(num1, num2)}\")\n",
    "elif option == \"*\":\n",
    "    print(f\"{num1} * {num2} = {mul(num1, num2)}\")\n",
    "elif option == \"/\":\n",
    "    print(f\"{num1} / {num2} = {div(num1, num2)}\")\n",
    "else: \n",
    "    print(\"invalid input\")"
   ]
  },
  {
   "cell_type": "code",
   "execution_count": 25,
   "id": "1e7183a1",
   "metadata": {
    "scrolled": true
   },
   "outputs": [
    {
     "name": "stdout",
     "output_type": "stream",
     "text": [
      "Your expenses: []\n",
      "What do you want to do? -\n",
      "1. Add\n",
      "2. Remove\n",
      "Select option 1 or 2: 1\n",
      "Item name: ádas\n",
      "Item cost: 45\n",
      "Date: 4/5\n",
      "Your expenses:  [{'name': 'ádas', 'cost': 45, 'date': '4/5'}]\n"
     ]
    }
   ],
   "source": [
    "\n",
    "def add_item(myTempList, item):    \n",
    "    myTempList.append(item)\n",
    "def find_index_item(myTempList, item_name):\n",
    "    result = -1\n",
    "    length = len(myTempList)\n",
    "    for i in range(length):\n",
    "        if myTempList[i]['name'] == item_name:\n",
    "            result = i\n",
    "    return result\n",
    "def remove_item(myTempList, item_name):\n",
    "    if find_index_item(myTempList, item_name) > -1:\n",
    "        del myTempList[find_index_item(myTempList, item_name)]\n",
    "    else:\n",
    "        print(item_name + \" not in list\")\n",
    "print(\"Your expenses:\", myTempList)\n",
    "print(\"What do you want to do? -\\n\"\\\n",
    "        \"1. Add\\n\" \\\n",
    "        \"2. Remove\")\n",
    "option = int(input(\"Select option 1 or 2: \"))\n",
    "name_input = input(\"Item name: \")\n",
    "if option == 1:\n",
    "    cost_input = int(input(\"Item cost: \"))\n",
    "    date_input = input(\"Date: \")\n",
    "    item = {'name': name_input, 'cost':cost_input, 'date':date_input}\n",
    "    add_item(myTempList, item)\n",
    "    print(\"Your expenses: \", myTempList)\n",
    "elif option == 2:\n",
    "    remove_item(myTempList, name_input)\n",
    "    print(\"Your expenses: \", myTempList)\n",
    "else:\n",
    "    print(\"Invalid input\")"
   ]
  },
  {
   "cell_type": "code",
   "execution_count": 26,
   "id": "b822430a",
   "metadata": {
    "scrolled": true
   },
   "outputs": [
    {
     "name": "stdout",
     "output_type": "stream",
     "text": [
      "Nhập vào chuỗi bất kỳ: chu trieu quoc khanh\n",
      "chuỗi vừa nhập là: chu trieu quoc khanh\n",
      "số kí tự trong chuỗi là: 20 \n"
     ]
    }
   ],
   "source": [
    "#Đếm số ký tự trong chuỗi\n",
    "string = input(\"Nhập vào chuỗi bất kỳ: \")\n",
    "def char_count(stri):\n",
    "    count = 0\n",
    "    for i in range(len(string)):\n",
    "        count +=1 \n",
    "    return count\n",
    "print(f\"chuỗi vừa nhập là: {string}\")\n",
    "print(f\"số kí tự trong chuỗi là: {char_count(string)} \")"
   ]
  },
  {
   "cell_type": "code",
   "execution_count": 31,
   "id": "4e43ee15",
   "metadata": {},
   "outputs": [
    {
     "name": "stdout",
     "output_type": "stream",
     "text": [
      "Input num1: 3\n",
      "Input num2: 6\n",
      "Input num3: 4\n",
      "Sort number:  3 4 6\n"
     ]
    }
   ],
   "source": [
    "#Sắp xếp các số nguyên\n",
    "def compare(num1, num2, num3):\n",
    "    temp = 0\n",
    "    if num2 < num1 and num2 < num3:\n",
    "        temp = num1\n",
    "        num1 = num2 \n",
    "        num2 = temp\n",
    "    elif num3 < num2 and num3 < num1:\n",
    "        temp = num1\n",
    "        num1 = num3\n",
    "        num3 = temp\n",
    "    if num2 > num3:\n",
    "        temp = num2\n",
    "        num2 = num3 \n",
    "        num3 = temp\n",
    "    return(num1, num2, num3)\n",
    "x = int(input(\"Input num1: \"))\n",
    "y = int(input(\"Input num2: \"))\n",
    "z = int(input(\"Input num3: \"))\n",
    "\n",
    "a, b, c = compare(x, y, z)\n",
    "print(\"Sort number: \", a, b, c)"
   ]
  },
  {
   "cell_type": "code",
   "execution_count": 34,
   "id": "5f31aef5",
   "metadata": {},
   "outputs": [
    {
     "name": "stdout",
     "output_type": "stream",
     "text": [
      "1\n"
     ]
    }
   ],
   "source": [
    "#Tìm giá trị nhỏ nhất trong list\n",
    "list_num = [2, 56 ,73 ,345, 345, 346, 1]\n",
    "def min_number(list_num):\n",
    "    result = list_num[0] \n",
    "    for i in list_num:\n",
    "        if i < result:\n",
    "            result = i\n",
    "    print(result)\n",
    "min_number(list_num)"
   ]
  }
 ],
 "metadata": {
  "kernelspec": {
   "display_name": "Python 3 (ipykernel)",
   "language": "python",
   "name": "python3"
  },
  "language_info": {
   "codemirror_mode": {
    "name": "ipython",
    "version": 3
   },
   "file_extension": ".py",
   "mimetype": "text/x-python",
   "name": "python",
   "nbconvert_exporter": "python",
   "pygments_lexer": "ipython3",
   "version": "3.10.2"
  }
 },
 "nbformat": 4,
 "nbformat_minor": 5
}
