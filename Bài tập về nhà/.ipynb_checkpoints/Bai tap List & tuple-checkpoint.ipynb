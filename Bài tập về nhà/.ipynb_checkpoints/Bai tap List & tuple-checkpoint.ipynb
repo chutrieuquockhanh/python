{
 "cells": [
  {
   "cell_type": "code",
   "execution_count": 1,
   "id": "91122bfe",
   "metadata": {},
   "outputs": [
    {
     "ename": "AttributeError",
     "evalue": "module 'turtle' has no attribute 'screen'",
     "output_type": "error",
     "traceback": [
      "\u001b[1;31m---------------------------------------------------------------------------\u001b[0m",
      "\u001b[1;31mAttributeError\u001b[0m                            Traceback (most recent call last)",
      "Input \u001b[1;32mIn [1]\u001b[0m, in \u001b[0;36m<module>\u001b[1;34m\u001b[0m\n\u001b[0;32m      2\u001b[0m \u001b[38;5;28;01mimport\u001b[39;00m \u001b[38;5;21;01mturtle\u001b[39;00m \u001b[38;5;28;01mas\u001b[39;00m \u001b[38;5;21;01mt\u001b[39;00m\n\u001b[0;32m      3\u001b[0m \u001b[38;5;28;01mimport\u001b[39;00m \u001b[38;5;21;01mrandom\u001b[39;00m \u001b[38;5;28;01mas\u001b[39;00m \u001b[38;5;21;01mr\u001b[39;00m\n\u001b[1;32m----> 4\u001b[0m screen \u001b[38;5;241m=\u001b[39m \u001b[43mt\u001b[49m\u001b[38;5;241;43m.\u001b[39;49m\u001b[43mscreen\u001b[49m()\n\u001b[0;32m      5\u001b[0m screen\u001b[38;5;241m.\u001b[39msetup(height\u001b[38;5;241m=\u001b[39m\u001b[38;5;241m500\u001b[39m, width\u001b[38;5;241m=\u001b[39m\u001b[38;5;241m600\u001b[39m)\n\u001b[0;32m      6\u001b[0m guess \u001b[38;5;241m=\u001b[39m screeb\u001b[38;5;241m.\u001b[39mtextinput(prompt\u001b[38;5;241m=\u001b[39m\u001b[38;5;124m\"\u001b[39m\u001b[38;5;124mDự đoán xem rùa nào chiến thắng?\u001b[39m\u001b[38;5;124m\"\u001b[39m, title\u001b[38;5;241m=\u001b[39m\u001b[38;5;124m\"\u001b[39m\u001b[38;5;124mNhập vào màu của rùa (đỏ, nâu xanh dương, xanh lá, cam, hồng)\u001b[39m\u001b[38;5;124m\"\u001b[39m)\n",
      "\u001b[1;31mAttributeError\u001b[0m: module 'turtle' has no attribute 'screen'"
     ]
    }
   ],
   "source": [
    "#Rùa đi bộ\n",
    "import turtle as t\n",
    "import random as r\n",
    "screen = t.creen()\n",
    "screen.setup(height=500, width=600)\n",
    "guess = screeb.textinput(prompt=\"Dự đoán xem rùa nào chiến thắng?\", title=\"Nhập vào màu của rùa (đỏ, nâu xanh dương, xanh lá, cam, hồng)\")\n",
    "color = [\"red\", \"brown\", \"blue\", \"green\", \"orange\", \"pink\"]\n",
    "y_position = [0, -30, 30, -60, 60, 90]\n",
    "turtle_speed = [10, 15, 20, 25, 30, 5]\n",
    "all_turtle = []\n",
    "run = True\n",
    "\n",
    "for turtle in rang(0, 6):\n",
    "    p = t.Turtle(shape=\"turtle\")\n",
    "    p.penup()\n",
    "    p.goto(x=-250, y=y_position[turtle])\n",
    "    p.color(colors[turtle])\n",
    "    all_turtle.append(p)\n",
    "    \n",
    "def random_walk(p):\n",
    "    global run\n",
    "    for turtle in p:\n",
    "        turtle.fd(r.choise(turtle_speed))\n",
    "        if turtle.xcor() > 250:\n",
    "            run = False\n",
    "        \n",
    "while run :\n",
    "    random_walk(all_turtles)\n",
    "screen.exitonclick()"
   ]
  }
 ],
 "metadata": {
  "kernelspec": {
   "display_name": "Python 3 (ipykernel)",
   "language": "python",
   "name": "python3"
  },
  "language_info": {
   "codemirror_mode": {
    "name": "ipython",
    "version": 3
   },
   "file_extension": ".py",
   "mimetype": "text/x-python",
   "name": "python",
   "nbconvert_exporter": "python",
   "pygments_lexer": "ipython3",
   "version": "3.10.2"
  }
 },
 "nbformat": 4,
 "nbformat_minor": 5
}
