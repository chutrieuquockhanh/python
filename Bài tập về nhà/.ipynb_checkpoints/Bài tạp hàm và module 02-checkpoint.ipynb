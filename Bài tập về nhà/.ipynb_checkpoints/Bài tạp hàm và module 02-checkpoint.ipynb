{
 "cells": [
  {
   "cell_type": "code",
   "execution_count": 26,
   "id": "c32d1396",
   "metadata": {
    "scrolled": true
   },
   "outputs": [
    {
     "name": "stdout",
     "output_type": "stream",
     "text": [
      "[0, 5, 48, 54, 65, 54, 857, 15]\n"
     ]
    }
   ],
   "source": [
    "# Hàm chuyển số lớn nhất \n",
    "number = [0, 5 , 48, 54, 65, 4152, 54 ,857, 15]\n",
    "def remove_largest_number(number):\n",
    "    max = 0\n",
    "    for i in number:\n",
    "        if i > max:\n",
    "            max = i\n",
    "    number.remove(max)\n",
    "remove_largest_number(number)\n",
    "print(number)"
   ]
  },
  {
   "cell_type": "code",
   "execution_count": 1,
   "id": "3710ea30",
   "metadata": {},
   "outputs": [],
   "source": [
    "# vẽ hình vuông để tọa ra hình tròn\n",
    "import turtle\n",
    "def draw_square_circle(width, angle):\n",
    "    p = turtle.Turtle()\n",
    "    p.pencolor(\"green\")\n",
    "    p.speed(20)\n",
    "    step = int(360 / angle)\n",
    "    \n",
    "    for i in range(step):\n",
    "        for j in range(4):\n",
    "            p.fd(width)\n",
    "            p.lt(90)\n",
    "        p.lt(angle)\n",
    "    turtle.done()\n",
    "draw_square_circle(100, 5)      "
   ]
  },
  {
   "cell_type": "code",
   "execution_count": 3,
   "id": "74b95ab0",
   "metadata": {},
   "outputs": [
    {
     "name": "stdout",
     "output_type": "stream",
     "text": [
      "['orange', 'mango', 'appple', 'grapes', 'ba']\n"
     ]
    }
   ],
   "source": [
    "#Hiển thị danh sách quả yêu thích\n",
    "fruits = [\"orange\", \"mango\", \"appple\", \"grapes\" ]\n",
    "def add_fruits(fruits, add_fruit):\n",
    "    fruits.append(add_fruit)\n",
    "add_fruits(fruits, \"banana\")\n",
    "print(fruits)"
   ]
  },
  {
   "cell_type": "code",
   "execution_count": 7,
   "id": "dee946a3",
   "metadata": {
    "scrolled": true
   },
   "outputs": [
    {
     "name": "stdout",
     "output_type": "stream",
     "text": [
      "Nhập số tứ nhất: 45\n",
      "Nhập số thứ hai: 5\n",
      "Nhập phép tính + , -, *, /: +\n",
      "45 + 5 = 50\n"
     ]
    }
   ],
   "source": [
    "# Tạo máy tính đơn giản\n",
    "def add(num1, num2):\n",
    "    return num1 + num2\n",
    "def sub(num1, num2):\n",
    "    return num1 - num2\n",
    "def mul(num1, num2):\n",
    "    return num1 * num2\n",
    "def div(num1, num2):\n",
    "    return num1 / num2\n",
    "num1 = int(input(\"Nhập số tứ nhất: \"))\n",
    "num2 = int(input(\"Nhập số thứ hai: \"))\n",
    "option = input(\"Nhập phép tính + , -, *, /: \")\n",
    "if option == \"+\":\n",
    "    print(f\"{num1} + {num2} = {add(num1, num2)}\")\n",
    "elif option == \"-\":\n",
    "    print(f\"{num1} - {num2} = {sub(num1, num2)}\")\n",
    "elif option == \"*\":\n",
    "    print(f\"{num1} * {num2} = {mul(num1, num2)}\")\n",
    "elif option == \"/\":\n",
    "    print(f\"{num1} / {num2} = {div(num1, num2)}\")\n",
    "else: \n",
    "    print(\"invalid input\")"
   ]
  },
  {
   "cell_type": "code",
   "execution_count": 24,
   "id": "a0dd6099",
   "metadata": {},
   "outputs": [
    {
     "name": "stdout",
     "output_type": "stream",
     "text": [
      "Your expenses: []\n",
      "What do you want to do? -\n",
      "1. Add\n",
      "2. Remove\n",
      "Select option 1 or 2: 4\n",
      "Item name: sdf\n",
      "Invalid input\n"
     ]
    }
   ],
   "source": [
    "myTemp = {\"name\":\"khanh\", \"cost\": 145, \"date\": 20/4}\n",
    "def add_item(myTempList, item):    \n",
    "    myTempList.append(item)\n",
    "def find_index_item(myTempList, item_name):\n",
    "    result = -1\n",
    "    length = len(myTempList)\n",
    "    for i in range(length):\n",
    "        if myTempList[i]['name'] == item_name:\n",
    "            result = i\n",
    "    return result\n",
    "def remove_item(myTempList, item_name):\n",
    "    if find_index_item(myTempList, item_name) > -1:\n",
    "        del myTempList[find_index_item(myTempList, item_name)]\n",
    "    else:\n",
    "        print(item_name + \" not in list\")\n",
    "print(\"Your expenses:\", myTempList)\n",
    "print(\"What do you want to do? -\\n\"\\\n",
    "        \"1. Add\\n\" \\\n",
    "        \"2. Remove\")\n",
    "option = int(input(\"Select option 1 or 2: \"))\n",
    "name_input = input(\"Item name: \")\n",
    "if option == 1:\n",
    "    cost_input = int(input(\"Item cost: \"))\n",
    "    date_input = input(\"Date: \")\n",
    "    item = {'name': name_input, 'cost':cost_input, 'date':date_input}\n",
    "    add_item(myTempList, item)\n",
    "    print(\"Your expenses: \", myTempList)\n",
    "elif option == 2:\n",
    "    remove_item(myTempList, name_input)\n",
    "    print(\"Your expenses: \", myTempList)\n",
    "else:\n",
    "    print(\"Invalid input\")"
   ]
  }
 ],
 "metadata": {
  "kernelspec": {
   "display_name": "Python 3 (ipykernel)",
   "language": "python",
   "name": "python3"
  },
  "language_info": {
   "codemirror_mode": {
    "name": "ipython",
    "version": 3
   },
   "file_extension": ".py",
   "mimetype": "text/x-python",
   "name": "python",
   "nbconvert_exporter": "python",
   "pygments_lexer": "ipython3",
   "version": "3.10.2"
  }
 },
 "nbformat": 4,
 "nbformat_minor": 5
}
