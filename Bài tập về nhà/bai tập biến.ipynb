{
 "cells": [
  {
   "cell_type": "code",
   "execution_count": null,
   "id": "589189c9",
   "metadata": {},
   "outputs": [],
   "source": [
    "# VẼ mặt cười\n",
    "\n",
    "import turtle\n",
    "pen = turtle.Turtle()\n",
    "pen.pensize(5)\n",
    "big_radius = 150\n",
    "pen.fillcolor(\"green\")\n",
    "# Vòng tròn lớn\n",
    "pen.begin_fill()\n",
    "pen.penup()\n",
    "pen.goto(0,-150)\n",
    "pen.pendown()\n",
    "pen.circle(big_radius)\n",
    "pen.end_fill()\n",
    "# Vẽ mắt\n",
    "eyes = 20\n",
    "pen.fillcolor(\"red\")\n",
    "pen.begin_fill()\n",
    "pen.penup()\n",
    "pen.goto(75,30)\n",
    "pen.pendown()\n",
    "pen.circle(eyes)\n",
    "pen.end_fill()\n",
    "\n",
    "pen.fillcolor(\"red\")\n",
    "pen.begin_fill()\n",
    "pen.penup()\n",
    "pen.goto(-75,30)\n",
    "pen.pendown()\n",
    "pen.circle(eyes)\n",
    "pen.end_fill()\n",
    "# Vẽ mũi\n",
    "pen.fillcolor(\"black\")\n",
    "nose = 15\n",
    "pen.begin_fill()\n",
    "pen.penup()\n",
    "pen.goto(0,0)\n",
    "pen.pendown()\n",
    "pen.circle(nose, steps=3)\n",
    "pen.end_fill()\n",
    "#Vẽ miệng cười\n",
    "pen.fillcolor(\"yellow\")\n",
    "smile = 50\n",
    "pen.begin_fill()\n",
    "pen.penup()\n",
    "pen.goto(-50,-80)\n",
    "pen.pendown()\n",
    "pen.rt(90)\n",
    "pen.circle(smile, 180)\n",
    "pen.lt(90)\n",
    "pen.fd(100)\n",
    "pen.end_fill()\n",
    "turtle.done()"
   ]
  },
  {
   "cell_type": "code",
   "execution_count": 1,
   "id": "c9d0b827",
   "metadata": {
    "scrolled": false
   },
   "outputs": [
    {
     "name": "stdout",
     "output_type": "stream",
     "text": [
      "Nhập cạnh thứ nhất: 4\n",
      "Nhập cạnh thứ hai : 6\n",
      "Nhập cạnh thứ ba : 9\n",
      "Diện tích của tam giác là:  9.56229574945264\n"
     ]
    }
   ],
   "source": [
    "# Tính diện tích tam giác\n",
    "import math\n",
    "a = int(input(\"Nhập cạnh thứ nhất: \"))\n",
    "b = int(input(\"Nhập cạnh thứ hai : \"))\n",
    "d = int(input(\"Nhập cạnh thứ ba : \"))\n",
    "s = (a + b + d)/2\n",
    "area = math.sqrt(s*(s - a)*(s - b)*(s - d))\n",
    "print(\"Diện tích của tam giác là: \",area)"
   ]
  },
  {
   "cell_type": "code",
   "execution_count": 3,
   "id": "cce1c65f",
   "metadata": {},
   "outputs": [
    {
     "name": "stdout",
     "output_type": "stream",
     "text": [
      "Nhập độ C: 45\n",
      "45 độ C là 113.0 độ F\n"
     ]
    }
   ],
   "source": [
    "# Chuyển đổi độ C sang độ F\n",
    "c = int(input(\"Nhập độ C: \"))\n",
    "f = 9* (c / 5) + 32\n",
    "print(f\"{c} độ C là {f} độ F\")"
   ]
  }
 ],
 "metadata": {
  "kernelspec": {
   "display_name": "Python 3 (ipykernel)",
   "language": "python",
   "name": "python3"
  },
  "language_info": {
   "codemirror_mode": {
    "name": "ipython",
    "version": 3
   },
   "file_extension": ".py",
   "mimetype": "text/x-python",
   "name": "python",
   "nbconvert_exporter": "python",
   "pygments_lexer": "ipython3",
   "version": "3.10.2"
  }
 },
 "nbformat": 4,
 "nbformat_minor": 5
}
