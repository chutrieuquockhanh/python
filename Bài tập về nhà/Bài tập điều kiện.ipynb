{
 "cells": [
  {
   "cell_type": "code",
   "execution_count": 1,
   "id": "8b33ed32",
   "metadata": {
    "scrolled": true
   },
   "outputs": [
    {
     "name": "stdout",
     "output_type": "stream",
     "text": [
      "Circle and square, What is your favorite shape?: square\n",
      "What is color will it be, green, red or blue ?green\n"
     ]
    }
   ],
   "source": [
    "# Vẽ hình và tô màu theo lựa chọn\n",
    "import turtle\n",
    "shape1 = input(\"Circle and square, What is your favorite shape?: \")\n",
    "if shape1 == \"circle\" or shape1 == \"square\":\n",
    "    color1 = input(\"What is color will it be, green, red or blue ?\")\n",
    "    if color1 == \"green\" or color1 == \"red\" or color1 == \"blue\":\n",
    "        \n",
    "        display = turtle.Turtle()\n",
    "        display.shape(shape1)\n",
    "        display.color(color1)\n",
    "        turtle.done()\n",
    "    else:\n",
    "        print(\"Sorry, I don't have this color: \")\n",
    "else:\n",
    "    print(\"Sorry, I don't have this shape: \")"
   ]
  },
  {
   "cell_type": "code",
   "execution_count": 1,
   "id": "9d168fac",
   "metadata": {},
   "outputs": [],
   "source": [
    "# Tô màu hình\n",
    "import turtle\n",
    "import random\n",
    "number = random.uniform(0, 3)\n",
    "intNumber = int(number)\n",
    "wn = turtle.Screen()\n",
    "wn.bgcolor(\"black\")\n",
    "wn.title(\"Circle\")\n",
    "\n",
    "ball = turtle.Turtle()\n",
    "ball.shape(\"circle\")\n",
    "\n",
    "if intNumber < 1:\n",
    "    ball.color(\"green\")\n",
    "elif intNumber < 2:\n",
    "    ball.color(\"yellow\")\n",
    "elif intNumber < 3:\n",
    "    ball.color(\"red\")\n",
    "turtle.done()\n"
   ]
  },
  {
   "cell_type": "code",
   "execution_count": null,
   "id": "ae3be35b",
   "metadata": {},
   "outputs": [],
   "source": [
    "# Toán tử 3 ngôi\n",
    "number = int(input(\"Nhập vào số nguyên bất kỳ\"))\n"
   ]
  }
 ],
 "metadata": {
  "kernelspec": {
   "display_name": "Python 3 (ipykernel)",
   "language": "python",
   "name": "python3"
  },
  "language_info": {
   "codemirror_mode": {
    "name": "ipython",
    "version": 3
   },
   "file_extension": ".py",
   "mimetype": "text/x-python",
   "name": "python",
   "nbconvert_exporter": "python",
   "pygments_lexer": "ipython3",
   "version": "3.10.2"
  }
 },
 "nbformat": 4,
 "nbformat_minor": 5
}
