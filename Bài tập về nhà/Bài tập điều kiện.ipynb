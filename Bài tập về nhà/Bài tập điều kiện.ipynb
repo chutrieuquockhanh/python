{
 "cells": [
  {
   "cell_type": "code",
   "execution_count": 1,
   "id": "8b33ed32",
   "metadata": {
    "scrolled": true
   },
   "outputs": [
    {
     "name": "stdout",
     "output_type": "stream",
     "text": [
      "Circle and square, What is your favorite shape?: square\n",
      "What is color will it be, green, red or blue ?green\n"
     ]
    }
   ],
   "source": [
    "# Vẽ hình và tô màu theo lựa chọn\n",
    "import turtle\n",
    "shape1 = input(\"Circle and square, What is your favorite shape?: \")\n",
    "if shape1 == \"circle\" or shape1 == \"square\":\n",
    "    color1 = input(\"What is color will it be, green, red or blue ?\")\n",
    "    if color1 == \"green\" or color1 == \"red\" or color1 == \"blue\":\n",
    "        \n",
    "        display = turtle.Turtle()\n",
    "        display.shape(shape1)\n",
    "        display.color(color1)\n",
    "        turtle.done()\n",
    "    else:\n",
    "        print(\"Sorry, I don't have this color: \")\n",
    "else:\n",
    "    print(\"Sorry, I don't have this shape: \")"
   ]
  },
  {
   "cell_type": "code",
   "execution_count": 1,
   "id": "9d168fac",
   "metadata": {},
   "outputs": [],
   "source": [
    "# Tô màu hình\n",
    "import turtle\n",
    "import random\n",
    "number = random.uniform(0, 3)\n",
    "intNumber = int(number)\n",
    "wn = turtle.Screen()\n",
    "wn.bgcolor(\"black\")\n",
    "wn.title(\"Circle\")\n",
    "\n",
    "ball = turtle.Turtle()\n",
    "ball.shape(\"circle\")\n",
    "\n",
    "if intNumber < 1:\n",
    "    ball.color(\"green\")\n",
    "elif intNumber < 2:\n",
    "    ball.color(\"yellow\")\n",
    "elif intNumber < 3:\n",
    "    ball.color(\"red\")\n",
    "turtle.done()\n"
   ]
  },
  {
   "cell_type": "code",
   "execution_count": 1,
   "id": "ae3be35b",
   "metadata": {
    "scrolled": true
   },
   "outputs": [
    {
     "name": "stdout",
     "output_type": "stream",
     "text": [
      "Nhập vào số nguyên bất kỳ5\n",
      "Odd\n"
     ]
    }
   ],
   "source": [
    "# Toán tử 3 ngôi\n",
    "number = int(input(\"Nhập vào số nguyên bất kỳ: \"))\n",
    "print(\"Even\" if number % 2 == 0 else \"Odd\")"
   ]
  },
  {
   "cell_type": "code",
   "execution_count": 3,
   "id": "0a5c5c8d",
   "metadata": {},
   "outputs": [
    {
     "name": "stdout",
     "output_type": "stream",
     "text": [
      "Nhập vào số bất kỳ: 2.3\n",
      "2.3 không phải số nguyên\n"
     ]
    }
   ],
   "source": [
    "# Kiểm tra chẵn lẻ \n",
    "number = float(input(\"Nhập vào số bất kỳ: \"))\n",
    "if number % 2 == 0:\n",
    "    print(f\"{number} là số lẻ \")\n",
    "elif number % 2 == 1:\n",
    "    print(f\"{number} là sô chẵn\")\n",
    "else:\n",
    "    print(f\"{number} không phải số nguyên\")"
   ]
  },
  {
   "cell_type": "code",
   "execution_count": 6,
   "id": "5e634344",
   "metadata": {
    "scrolled": true
   },
   "outputs": [
    {
     "name": "stdout",
     "output_type": "stream",
     "text": [
      "Mời người dùng nhập vào 1 số bất kỳ từ 1 đến 7: 9\n",
      "Error, out of range\n"
     ]
    }
   ],
   "source": [
    "# Hiển thị ngày trong tuần\n",
    "number = int(input(\"Mời người dùng nhập vào 1 số bất kỳ từ 1 đến 7: \"))\n",
    "if number == 1:\n",
    "    print(\"Monday\")\n",
    "elif number == 2:\n",
    "    print(\"Tuesday\")\n",
    "elif number == 3:\n",
    "    print(\"Wednesday\")\n",
    "elif number == 4:\n",
    "    print(\"Thursday\")\n",
    "elif number == 5:\n",
    "    print(\"Friday\")\n",
    "elif number == 6:\n",
    "    print(\"Saturday\")\n",
    "elif number == 7:\n",
    "    print(\"Sunday\")\n",
    "else:\n",
    "    print(\"Error, out of range\")\n",
    "    "
   ]
  },
  {
   "cell_type": "code",
   "execution_count": 12,
   "id": "3e717a93",
   "metadata": {
    "scrolled": true
   },
   "outputs": [
    {
     "name": "stdout",
     "output_type": "stream",
     "text": [
      "Nhập tổng số tiền mua hàng: 75\n",
      "Số tiền bạn phải thanh toán là: 50\n"
     ]
    }
   ],
   "source": [
    "# Hiển thị thông tin đơn hàng\n",
    "total = int(input(\"Nhập tổng số tiền mua hàng: \"))\n",
    "if total < 75:\n",
    "    pay = total\n",
    "elif total >= 150:\n",
    "    pay = total - 50\n",
    "elif total >= 100:\n",
    "    pay = total - 25\n",
    "elif total >= 75:\n",
    "    pay = total - 15\n",
    "print(f\"Số tiền bạn phải thanh toán là: {pay}\")"
   ]
  },
  {
   "cell_type": "code",
   "execution_count": 7,
   "id": "a425b516",
   "metadata": {},
   "outputs": [
    {
     "name": "stdout",
     "output_type": "stream",
     "text": [
      "Nhập chiều cao: 12\n",
      "Nhập số cân nặng: 56\n",
      "Gầy cấp độ III\n"
     ]
    }
   ],
   "source": [
    "# Tính chỉ số cân nặng của cơ thể\n",
    "height = float(input(\"Nhập chiều cao: \"))\n",
    "weight = float(input(\"Nhập số cân nặng: \"))\n",
    "bmi = weight / height\n",
    "print(f\"chỉ số \")\n",
    "if bmi < 16:\n",
    "    print(\"Gầy cấp độ III\")\n",
    "elif bmi < 17:\n",
    "    print(\"Gầy cấp độ II\")\n",
    "elif bmi < 18.5:\n",
    "    print(\"Gầy cấp độ I\")\n",
    "elif bmi < 25:\n",
    "    print(\"Bình thường\")\n",
    "elif bmi < 30:\n",
    "    print(\"Thừa cân\")\n",
    "elif bmi < 35:\n",
    "    print(\"Béo phì cấp độ I\")\n",
    "elif bmi < 40:\n",
    "    print(\"Béo phì cấp độ II\")\n",
    "else:\n",
    "    print(\"Béo phì cấp độ III\")\n",
    "    "
   ]
  }
 ],
 "metadata": {
  "kernelspec": {
   "display_name": "Python 3 (ipykernel)",
   "language": "python",
   "name": "python3"
  },
  "language_info": {
   "codemirror_mode": {
    "name": "ipython",
    "version": 3
   },
   "file_extension": ".py",
   "mimetype": "text/x-python",
   "name": "python",
   "nbconvert_exporter": "python",
   "pygments_lexer": "ipython3",
   "version": "3.10.2"
  }
 },
 "nbformat": 4,
 "nbformat_minor": 5
}
