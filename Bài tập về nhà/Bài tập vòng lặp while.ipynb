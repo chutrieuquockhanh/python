{
 "cells": [
  {
   "cell_type": "code",
   "execution_count": 1,
   "id": "21e90500",
   "metadata": {
    "scrolled": true
   },
   "outputs": [
    {
     "name": "stdout",
     "output_type": "stream",
     "text": [
      "Nhập vào cạnh của hình vuông: 200\n"
     ]
    }
   ],
   "source": [
    "# Vẽ hình vuông sử dụng vòng lặp while\n",
    "\n",
    "import  turtle\n",
    "a = float(input(\"Nhập vào cạnh của hình vuông: \"))\n",
    "i = 0\n",
    "pen = turtle.Turtle()\n",
    "pen.pensize(4)\n",
    "while i < 4:\n",
    "    pen.fd(a)\n",
    "    pen.rt(90)\n",
    "    i += 1\n",
    "turtle.done()    "
   ]
  },
  {
   "cell_type": "code",
   "execution_count": 1,
   "id": "829f669e",
   "metadata": {},
   "outputs": [],
   "source": [
    "# Rùa tập thể dục\n",
    "import turtle\n",
    "import random as r\n",
    "\n",
    "p = turtle.Turtle()\n",
    "p.shape(\"turtle\")\n",
    "p.hideturtle()\n",
    "p.pensize(5)\n",
    "p.color(\"green\")\n",
    "p.speed(1)\n",
    "p.penup()\n",
    "p.goto(-400, 0)\n",
    "p.showturtle()\n",
    "\n",
    "count = 0\n",
    "while count < 10:\n",
    "    down = r.randint(20, 50)\n",
    "    up = r.randint(20, 50)\n",
    "    p.pendown()\n",
    "    p.fd(down)\n",
    "    p.penup()\n",
    "    p.fd(up)\n",
    "    count +=1\n",
    "turtle.done()"
   ]
  },
  {
   "cell_type": "code",
   "execution_count": 1,
   "id": "554fdb44",
   "metadata": {},
   "outputs": [],
   "source": [
    "# Rùa bị quản trong nhà\n",
    "import turtle\n",
    "import random as r\n",
    "\n",
    "p = turtle.Turtle()\n",
    "p.shape(\"turtle\")\n",
    "p.pensize(5)\n",
    "p.pencolor(\"black\")\n",
    "p.speed(10)\n",
    "p.hideturtle()\n",
    "p.penup()\n",
    "p.goto(0, -200)\n",
    "p.pendown()\n",
    "p.circle(200)\n",
    "\n",
    "p.penup()\n",
    "p.goto(0, 0)\n",
    "\n",
    "p.showturtle()\n",
    "p.color(\"green\")\n",
    "\n",
    "angle = r.randint(0, 360)\n",
    "p.rt(angle)\n",
    "count = 0\n",
    "while count < 10:\n",
    "    p.speed(1)\n",
    "    p.fd(190)\n",
    "    p.hideturtle()\n",
    "    \n",
    "    p.speed(10)\n",
    "    p.goto(0, 0)\n",
    "    \n",
    "    p.showturtle()\n",
    "    p.rt(angle)\n",
    "    \n",
    "    count += 1\n",
    " \n",
    "turtle.done()"
   ]
  },
  {
   "cell_type": "code",
   "execution_count": 1,
   "id": "20308398",
   "metadata": {
    "scrolled": true
   },
   "outputs": [
    {
     "name": "stdout",
     "output_type": "stream",
     "text": [
      "Nhập khoảng cách từ tâm đến điểm giới hạn: 100\n"
     ]
    }
   ],
   "source": [
    "# Vẽ hình xoắn ốc\n",
    "\n",
    "import turtle\n",
    "k = float(input(\"Nhập khoảng cách từ tâm đến điểm giới hạn: \"))\n",
    "p = turtle.Turtle()\n",
    "d = 1\n",
    "count =0\n",
    "p.speed(10)\n",
    "while True:\n",
    "    p.fd(d)\n",
    "    p.lt(20)\n",
    "    count += 1\n",
    "    d += 0.2\n",
    "    if d > k:\n",
    "        break\n",
    "turtle.done()"
   ]
  },
  {
   "cell_type": "code",
   "execution_count": null,
   "id": "5dc57481",
   "metadata": {},
   "outputs": [],
   "source": [
    "# Vẽ hình theo mẫu\n",
    "import turtle\n",
    "\n",
    "p = turtle.Turtle()\n",
    "count = 0\n",
    "p.pensize(1)\n",
    "\n",
    "while count < 36:\n",
    "    p.speed(20)\n",
    "    if count % 4 == 0:\n",
    "        p.pencolor(\"blue\")\n",
    "    elif count % 4 == 1:\n",
    "        p.pencolor(\"green\")\n",
    "    elif count % 4 == 2:\n",
    "        p.pencolor(\"yellow\")\n",
    "    else: \n",
    "        p.pencolor(\"red\")\n",
    "    p.circle(100, 90)\n",
    "    p.circle(50, 90)\n",
    "    p.circle(100, 90)\n",
    "    p.circle(50, 90)\n",
    "    p.rt(10)\n",
    "    count += 1\n",
    "    \n",
    "turtle.done()\n",
    "    "
   ]
  }
 ],
 "metadata": {
  "kernelspec": {
   "display_name": "Python 3 (ipykernel)",
   "language": "python",
   "name": "python3"
  },
  "language_info": {
   "codemirror_mode": {
    "name": "ipython",
    "version": 3
   },
   "file_extension": ".py",
   "mimetype": "text/x-python",
   "name": "python",
   "nbconvert_exporter": "python",
   "pygments_lexer": "ipython3",
   "version": "3.10.2"
  }
 },
 "nbformat": 4,
 "nbformat_minor": 5
}
