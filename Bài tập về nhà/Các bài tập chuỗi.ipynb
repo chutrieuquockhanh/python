{
 "cells": [
  {
   "cell_type": "code",
   "execution_count": 1,
   "id": "2f6b5731",
   "metadata": {
    "scrolled": true
   },
   "outputs": [
    {
     "name": "stdout",
     "output_type": "stream",
     "text": [
      "Nhập bán kính hình tròn: 100\n",
      "Chu vi hình tròn là: 628.3185307179587\n",
      "Diện tích hình tròn là: 31415.926535897932\n"
     ]
    }
   ],
   "source": [
    "# Tính chu vi diện tích hình tròn\n",
    "import turtle\n",
    "import math\n",
    "r = int(input(\"Nhập bán kính hình tròn: \"))\n",
    "pen = turtle.Turtle()\n",
    "\n",
    "pen.circle(r)\n",
    "turtle.done()\n",
    "\n",
    "c = 2 * math.pi * r\n",
    "s = math.pi * r * r\n",
    "print(f\"Chu vi hình tròn là: {c}\")\n",
    "print(f\"Diện tích hình tròn là: {s}\")"
   ]
  },
  {
   "cell_type": "code",
   "execution_count": 1,
   "id": "bd748c7a",
   "metadata": {
    "scrolled": true
   },
   "outputs": [
    {
     "name": "stdout",
     "output_type": "stream",
     "text": [
      "Nhập mã màu: #3f9674\n",
      "Nhập chiều dài hình chữ nhật: 100\n",
      "Nhập chiều rộng hinh chữ nhật: 60\n",
      "Chu vi hình chữ nhật là: 320\n",
      "Diện tích hình chũ nhật là: 6000\n"
     ]
    }
   ],
   "source": [
    "# Tô màu hình chữ nhật\n",
    "import turtle\n",
    "import math\n",
    "color = input(\"Nhập mã màu: \")\n",
    "longth = int(input(\"Nhập chiều dài hình chữ nhật: \"))\n",
    "width = int(input(\"Nhập chiều rộng hinh chữ nhật: \"))\n",
    "pen = turtle.Turtle()\n",
    "pen.fillcolor(color)\n",
    "pen.begin_fill()\n",
    "pen.fd(longth)\n",
    "pen.lt(90)\n",
    "pen.fd(width)\n",
    "pen.lt(90)\n",
    "pen.fd(longth)\n",
    "pen.lt(90)\n",
    "pen.fd(width)\n",
    "pen.lt(90)\n",
    "pen.end_fill()\n",
    "turtle.done()\n",
    "c = (longth + width) * 2\n",
    "s = longth * width\n",
    "\n",
    "print(f\"Chu vi hình chữ nhật là: {c}\")\n",
    "print(f\"Diện tích hình chũ nhật là: {s}\")"
   ]
  },
  {
   "cell_type": "code",
   "execution_count": 2,
   "id": "4c150e1f",
   "metadata": {
    "scrolled": true
   },
   "outputs": [
    {
     "name": "stdout",
     "output_type": "stream",
     "text": [
      "NHập USD cần chuyển đổi sang VND: 45\n",
      "Nhập tỉ giá USD/VND: 1 USD = 23000 VND\n",
      "45.0 USD đổi được 1035000.0 VND\n"
     ]
    }
   ],
   "source": [
    "# Ứng dụng chuyễn đổi tiền tệ\n",
    "usd = float(input(\"NHập USD cần chuyển đổi sang VND: \"))\n",
    "ti_gia = input(\"Nhập tỉ giá USD/VND: \")\n",
    "VND = 23000 * usd\n",
    "print(f\"{usd} USD đổi được {VND} VND\")\n",
    "\n"
   ]
  },
  {
   "cell_type": "code",
   "execution_count": null,
   "id": "7b8b032d",
   "metadata": {},
   "outputs": [],
   "source": [
    "# Nâng cấp ngoi nhà mơ ước\n",
    "import turtle\n",
    "pen = turtle.Turtle()\n",
    "pen.pensize(5)\n",
    "a = 25 * 2 ** 0.5\n",
    "pen.pencolor(\"blue\")\n",
    "pen.fd(250)\n",
    "pen.lt(90)\n",
    "pen.fd(150)\n",
    "pen.lt(90)\n",
    "pen.fd(250)\n",
    "pen.lt(90)\n",
    "pen.fd(150)\n",
    "pen.lt(90)\n",
    "\n",
    "pen.fd(90)\n",
    "pen.lt(90)\n",
    "pen.fd(100)\n",
    "pen.rt(90)\n",
    "pen.fd(70)\n",
    "pen.rt(90)\n",
    "pen.fd(100)\n",
    "pen.lt(90)\n",
    "pen.fd(90)\n",
    "pen.lt(90)\n",
    "pen.fd(150)\n",
    "pen.lt(90)\n",
    "pen.fd(250)\n",
    "\n",
    "pen.rt(135)\n",
    "pen.fd(150)\n",
    "pen.rt(90)\n",
    "pen.fd(50)\n",
    "pen.lt(135)\n",
    "pen.fd(a)\n",
    "pen.penup()\n",
    "pen.fd(20)\n",
    "pen.pendown()\n",
    "pen.fd(a)\n",
    "\n",
    "pen.penup()\n",
    "pen.rt(90)\n",
    "pen.fd(a)\n",
    "pen.pendown()\n",
    "pen.rt(90)\n",
    "pen.fd(a)\n",
    "pen.penup()\n",
    "pen.fd(20)\n",
    "pen.pendown()\n",
    "pen.rt(90)\n",
    "pen.fd(a)\n",
    "pen.bk(a)\n",
    "pen.lt(90)\n",
    "pen.fd(2*a)\n",
    "pen.rt(135)\n",
    "pen.fd(50)\n",
    "pen.bk(100)\n",
    "\n",
    "pen.fillcolor(\"green\")\n",
    "pen.begin_fill()\n",
    "pen.penup()\n",
    "pen.goto(-300,-50)\n",
    "pen.rt(135)\n",
    "pen.pendown()\n",
    "pen.fd(200)\n",
    "pen.lt(150)\n",
    "pen.fd(200/3**0.5)\n",
    "pen.rt(150)\n",
    "pen.fd(100)\n",
    "pen.lt(150)\n",
    "pen.fd(200/3**0.5)\n",
    "pen.rt(150)\n",
    "pen.fd(100)\n",
    "pen.lt(150)\n",
    "pen.fd(200/3**0.5)\n",
    "pen.lt(60)\n",
    "pen.fd(200/3**0.5)\n",
    "pen.lt(150)\n",
    "pen.fd(100)\n",
    "pen.rt(150)\n",
    "pen.fd(200/3**0.5)\n",
    "pen.lt(150)\n",
    "pen.fd(100)\n",
    "pen.rt(150)\n",
    "pen.fd(200/3**0.5)\n",
    "pen.lt(150)\n",
    "pen.end_fill()\n",
    "\n",
    "pen.fillcolor(\"brown\")\n",
    "pen.begin_fill()\n",
    "pen.fd(120)\n",
    "pen.rt(90)\n",
    "pen.fd(60)\n",
    "pen.rt(90)\n",
    "pen.fd(40)\n",
    "pen.rt(90)\n",
    "pen.fd(60)\n",
    "pen.lt(110)\n",
    "pen.end_fill()\n",
    "turtle.done()"
   ]
  }
 ],
 "metadata": {
  "kernelspec": {
   "display_name": "Python 3 (ipykernel)",
   "language": "python",
   "name": "python3"
  },
  "language_info": {
   "codemirror_mode": {
    "name": "ipython",
    "version": 3
   },
   "file_extension": ".py",
   "mimetype": "text/x-python",
   "name": "python",
   "nbconvert_exporter": "python",
   "pygments_lexer": "ipython3",
   "version": "3.10.2"
  }
 },
 "nbformat": 4,
 "nbformat_minor": 5
}
