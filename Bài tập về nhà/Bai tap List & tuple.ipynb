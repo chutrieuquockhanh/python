{
 "cells": [
  {
   "cell_type": "code",
   "execution_count": null,
   "id": "6c4b4633",
   "metadata": {},
   "outputs": [],
   "source": [
    "#Rùa đi bộ\n",
    "import turtle as t\n",
    "import random \n",
    "screen = t.Screen()\n",
    "screen.setup(height=500, width=600)\n",
    "guess = screen.textinput(prompt=\"Dự đoán xem rùa nào chiến thắng?\", title=\"Nhập vào màu của rùa (red, brown, blue,green, orange, pink)\")\n",
    "colors = [\"red\", \"brown\", \"blue\", \"green\", \"orange\", \"pink\"]\n",
    "y_position = [0, -30, 30, -60, 60, 90]\n",
    "turtle_speed = [5, 10, 15, 20, 25, 30]\n",
    "all_turtle = []\n",
    "run = True\n",
    "\n",
    "for turtle in range(0, 6):\n",
    "    turtles = t.Turtle(shape=\"turtle\")\n",
    "    turtles.penup()\n",
    "    turtles.goto(x=-250, y=y_position[turtle])\n",
    "    turtles.color(colors[turtle])\n",
    "    all_turtle.append(turtles)\n",
    "    \n",
    "def random_walk(turtles):\n",
    "    global run\n",
    "    for turtle in turtles:\n",
    "        turtle.fd(random.choice(turtle_speed))\n",
    "        if turtle.xcor() > 250:\n",
    "            run = False\n",
    "        \n",
    "while run:\n",
    "    random_walk(all_turtle)\n",
    "screen.exitonclick()"
   ]
  },
  {
   "cell_type": "code",
   "execution_count": 9,
   "id": "d67dc182",
   "metadata": {
    "scrolled": true
   },
   "outputs": [
    {
     "name": "stdout",
     "output_type": "stream",
     "text": [
      "Nhập 1 số bất kỳ: 343534\n",
      "ba bốn ba năm ba bốn "
     ]
    }
   ],
   "source": [
    "#Print the number in word\n",
    "number = input(\"Nhập 1 số bất kỳ: \")\n",
    "number_word = (\"không\", \"một\", \"hai\", \"ba\", \"bốn\", \"năm\", \"sáu\", \"bảy\", \"tám\", \"chín\")\n",
    "for i in number:\n",
    "    print(number_word[int(i)], end=\" \")   "
   ]
  },
  {
   "cell_type": "code",
   "execution_count": 1,
   "id": "ec0ab66f",
   "metadata": {},
   "outputs": [],
   "source": [
    "#Cuộc đua của những chú rùa phần 1\n",
    "\n",
    "import turtle as t\n",
    "import random \n",
    "\n",
    "screen = t.Screen()\n",
    "screen.setup(height=500, width=600)\n",
    "p = t.Turtle(visible=False)\n",
    "p.penup()\n",
    "p.speed(50)\n",
    "p.goto(-250, 200)\n",
    "for i in range(21):\n",
    "    p.write(i)\n",
    "    p.fd(25)\n",
    "\n",
    "x = -250\n",
    "p.goto(-250, 200)\n",
    "p.rt(90)\n",
    "for i in range(21):\n",
    "    for j in range(10):\n",
    "        p.pendown()\n",
    "        p.fd(20)\n",
    "        p.penup()\n",
    "        p.fd(20)\n",
    "    p.penup()\n",
    "    p.fd(5)\n",
    "    p.write(i)\n",
    "    p.goto(x + (i + 1) * 25, 200)\n",
    "\n",
    "all_turtles = []\n",
    "y_position = [120, 40, -40, -120]\n",
    "colors = [\"red\", \"green\", \"blue\", \"black\"]\n",
    "for i in range(0, 4):\n",
    "    p = t.Turtle(shape=\"turtle\")\n",
    "    p.penup()\n",
    "    p.goto(x , y = y_position[i])\n",
    "    p.color(colors[i])\n",
    "    for j in range(5):\n",
    "        p.lt(72)\n",
    "    all_turtles.append(p)\n",
    "run = True   \n",
    "def random_walk(turtles):\n",
    "    global run\n",
    "    for turtle in turtles:\n",
    "        turtle.fd(random.randint(1, 10))\n",
    "        if turtle.xcor() > 250:\n",
    "            run = False\n",
    "        \n",
    "while run:\n",
    "    random_walk(all_turtles)\n",
    "screen.exitonclick()\n"
   ]
  },
  {
   "cell_type": "code",
   "execution_count": 15,
   "id": "cb123ad0",
   "metadata": {
    "scrolled": false
   },
   "outputs": [
    {
     "name": "stdout",
     "output_type": "stream",
     "text": [
      "number = [100, 310.28, 27.0, 1000]\n",
      "text = ['Mobile', 'Laptop', 'Camera', 'Speakers', 'Television', 'Laptop Case', 'Camera Lens']\n",
      "Sau khi sắp xếp số tăng dần là number= [27.0, 100, 310.28, 1000]\n",
      "Sau khi sắp xếp số giảm dần là number= [1000, 310.28, 100, 27.0]\n",
      "Sau khi sắp xếp số ký tự tăng dần là number= ['Mobile', 'Laptop', 'Camera', 'Speakers', 'Television', 'Laptop Case', 'Camera Lens']\n",
      "Sau khi sắp xếp số ký giảm  dần là number= ['Laptop Case', 'Camera Lens', 'Television', 'Speakers', 'Laptop', 'Camera', 'Mobile']\n"
     ]
    }
   ],
   "source": [
    "#From given list\n",
    "gadgets = [\"Mobile\", \"Laptop\", 100, \"Camera\", 310.28, \"Speakers\", 27.00, \"Television\", 1000, \"Laptop Case\", \"Camera Lens\"]\n",
    "number = []\n",
    "text = []\n",
    "for i in gadgets:\n",
    "    if isinstance(i, str):\n",
    "        text.append(i)\n",
    "    else:\n",
    "        number.append(i)\n",
    "print(f\"number = {number}\")\n",
    "print(f\"text = {text}\")\n",
    "length = len(number)\n",
    "for i in range(length - 1):\n",
    "    for j in range(i + 1, length):\n",
    "        temp = 0\n",
    "        if number[i] > number[j]:\n",
    "              temp = number[i]\n",
    "              number[i] = number[j]\n",
    "              number[j] = temp\n",
    "print(f\"Sau khi sắp xếp số tăng dần là number= {number}\")\n",
    "for i in range(length - 1):\n",
    "    for j in range(i + 1, length):\n",
    "        temp = 0\n",
    "        if number[i] < number[j]:\n",
    "              temp = number[i]\n",
    "              number[i] = number[j]\n",
    "              number[j] = temp\n",
    "print(f\"Sau khi sắp xếp số giảm dần là number= {number}\")\n",
    "\n",
    "length2 = len(text)\n",
    "for i in range(length2):\n",
    "    for j in range(i + 1, length2):\n",
    "        temp = 0\n",
    "        if len(text[i]) > len(text[j]):\n",
    "              temp = text[i]\n",
    "              text[i] = text[j]\n",
    "              text[j] = temp\n",
    "print(f\"Sau khi sắp xếp số ký tự tăng dần là number= {text}\")\n",
    "\n",
    "for i in range(length2):\n",
    "    for j in range(i + 1, length2):\n",
    "        temp = 0\n",
    "        if len(text[i]) < len(text[j]):\n",
    "              temp = text[i]\n",
    "              text[i] = text[j]\n",
    "              text[j] = temp\n",
    "print(f\"Sau khi sắp xếp số ký giảm  dần là number= {text}\")"
   ]
  },
  {
   "cell_type": "code",
   "execution_count": 18,
   "id": "ecd4717e",
   "metadata": {},
   "outputs": [
    {
     "name": "stdout",
     "output_type": "stream",
     "text": [
      "Số lớn nhất trong list là : 87\n",
      "Số lớn thứ 2 trong list là : 65\n"
     ]
    }
   ],
   "source": [
    "#Cuộc đua của những chú rùa phần 2\n",
    "number = [21, 23, 54, 87, 41, 59, 65, 10]\n",
    "length = len(number)\n",
    "for i in range(length - 1):\n",
    "    for j in range(i + 1, length):\n",
    "        temp = 0\n",
    "        if number[i] < number[j]:\n",
    "              temp = number[i]\n",
    "              number[i] = number[j]\n",
    "              number[j] = temp\n",
    "print(f\"Số lớn nhất trong list là : {number[0]}\")\n",
    "print(f\"Số lớn thứ 2 trong list là : {number[1]}\")"
   ]
  },
  {
   "cell_type": "code",
   "execution_count": 34,
   "id": "6d93763d",
   "metadata": {},
   "outputs": [
    {
     "name": "stdout",
     "output_type": "stream",
     "text": [
      "[10, 20, 30, 0]\n"
     ]
    }
   ],
   "source": [
    "tuples = [10, 20, 30, 0]\n",
    "\n",
    "tb = tuples.inde()\n",
    "print(tb)"
   ]
  }
 ],
 "metadata": {
  "kernelspec": {
   "display_name": "Python 3 (ipykernel)",
   "language": "python",
   "name": "python3"
  },
  "language_info": {
   "codemirror_mode": {
    "name": "ipython",
    "version": 3
   },
   "file_extension": ".py",
   "mimetype": "text/x-python",
   "name": "python",
   "nbconvert_exporter": "python",
   "pygments_lexer": "ipython3",
   "version": "3.10.2"
  }
 },
 "nbformat": 4,
 "nbformat_minor": 5
}
