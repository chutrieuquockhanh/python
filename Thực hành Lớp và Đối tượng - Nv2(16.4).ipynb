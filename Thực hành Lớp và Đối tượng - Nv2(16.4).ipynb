{
 "cells": [
  {
   "cell_type": "code",
   "execution_count": null,
   "id": "1b7705b3",
   "metadata": {},
   "outputs": [],
   "source": [
    "\"\"\"\n",
    "Viết class NhanVien gồm các thuộc tính:\n",
    "+ Tên\n",
    "+ Tuổi\n",
    "+ Địa chỉ\n",
    "+ Tiền lương\n",
    "+ Tổng số giờ làm\n",
    "\n",
    "Và các phương thức:\n",
    "- Phương thức tạo\n",
    "- input_info() : Nhập các thông tin cho nhân viên từ bàn phím\n",
    "- print_info() : In ra tất cả các thông tin của nhân viên\n",
    "- tinh_thuong(): Tính toán và trả về số tiền thưởng của nhân viên theo công thức sau:\n",
    "Nếu tổng số giờ làm của nhân viên >=200 thì thưởng = lương * 20%\n",
    "Nếu tổng số giờ làm của nhân viên <200 và >=100 thì thưởng = lương * 10%\n",
    "Nếu tổng số giờ làm của nhân viên <100 thì thưởng = 0\n",
    "\"\"\""
   ]
  },
  {
   "cell_type": "code",
   "execution_count": 9,
   "id": "3cf0f41d",
   "metadata": {},
   "outputs": [],
   "source": [
    "class NhanVien():\n",
    "    def __init__(self):\n",
    "        self.name = \"\"\n",
    "        self.age = 0\n",
    "        self.address = \"\"\n",
    "        self.wage = 0\n",
    "        self.timework = 0\n",
    "    def input_info(self):\n",
    "        self.name = input(\"Nhập tên nhân viên: \")\n",
    "        self.age = int(input(\"Nhập tuổi nhân viên: \"))\n",
    "        self.address = input(\"Nhập địa chỉ của nhân viên: \")\n",
    "        self.wage = int(input(\"Nhập lương của nhân viên:\"))\n",
    "        self.timework = float(input(\"Nhập tổng số giờ làm: \"))\n",
    "    def print_info(self):\n",
    "        print(f\"Tên : {self.name}\")\n",
    "        print(f\"Tuổi : {self.age}\")\n",
    "        print(f\"Địa chỉ : {self.address}\")\n",
    "        print(f\"Lương : {self.wage}\")\n",
    "        print(f\"Số giờ làm : {self.timework}\")\n",
    "        \n",
    "    def calc_bonus(self):\n",
    "        if self.timework >= 200:\n",
    "            bonus = self.wage * 0.2\n",
    "        elif self.timework >= 100:\n",
    "            bonus = self.wage * 0.1\n",
    "        else:\n",
    "            bonus = 0\n",
    "        return bonus"
   ]
  },
  {
   "cell_type": "code",
   "execution_count": 10,
   "id": "b29fb6df",
   "metadata": {},
   "outputs": [
    {
     "name": "stdout",
     "output_type": "stream",
     "text": [
      "Nhập tên nhân viên: khanh\n",
      "Nhập tuổi nhân viên: 21\n",
      "Nhập địa chỉ của nhân viên: hanoi]\n",
      "Nhập lương của nhân viên:2000\n",
      "Nhập tổng số giờ làm: 110\n",
      "Tên : khanh\n",
      "Tuổi : 21\n",
      "Địa chỉ : hanoi]\n",
      "Lương : 2000\n",
      "Số giờ làm : 110.0\n",
      "Tiền thưởng: 200.0\n"
     ]
    }
   ],
   "source": [
    "nhanvien = NhanVien()\n",
    "nhanvien.input_info()\n",
    "nhanvien.print_info()\n",
    "print(f\"Tiền thưởng: {nhanvien.calc_bonus()}\")"
   ]
  }
 ],
 "metadata": {
  "kernelspec": {
   "display_name": "Python 3 (ipykernel)",
   "language": "python",
   "name": "python3"
  },
  "language_info": {
   "codemirror_mode": {
    "name": "ipython",
    "version": 3
   },
   "file_extension": ".py",
   "mimetype": "text/x-python",
   "name": "python",
   "nbconvert_exporter": "python",
   "pygments_lexer": "ipython3",
   "version": "3.10.2"
  }
 },
 "nbformat": 4,
 "nbformat_minor": 5
}
