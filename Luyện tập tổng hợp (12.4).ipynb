{
 "cells": [
  {
   "cell_type": "markdown",
   "id": "04fcdb31",
   "metadata": {},
   "source": [
    "Bài 1:\n",
    "viết hàm có 2 dữ liệu đầu vào 2 số a, b số nào lớn hơn thì in ra bảng cửu chương của số đó"
   ]
  },
  {
   "cell_type": "code",
   "execution_count": 6,
   "id": "f99aa840",
   "metadata": {},
   "outputs": [
    {
     "name": "stdout",
     "output_type": "stream",
     "text": [
      "Nhập số a: 4\n",
      "Nhập số b: 7\n",
      "5 * 1 = 5\n",
      "5 * 2 = 10\n",
      "5 * 3 = 15\n",
      "5 * 4 = 20\n",
      "5 * 5 = 25\n",
      "5 * 6 = 30\n",
      "5 * 7 = 35\n",
      "5 * 8 = 40\n",
      "5 * 9 = 45\n"
     ]
    }
   ],
   "source": [
    "\n",
    "def calc_multiplication(a, b):\n",
    "    max_value = a if a > b else b\n",
    "    for i in range(1,10):\n",
    "        print(f\"{max_value} * {i} = {max_value * i}\")\n",
    "        \n",
    "calc_multiplication(4, 5)        \n",
    "            \n",
    "      "
   ]
  },
  {
   "cell_type": "markdown",
   "id": "4bedd71c",
   "metadata": {},
   "source": [
    "Bai 2: Viết hàm `remove_string` có dữ liệu đầu vào là 2 chuỗi a và b, hãy tìm trong chuỗi a có chuỗi b hay không, nếu có hãy xóa toán bộ chuỗi b trong a.\n",
    "\n",
    "Sau đó trả về chuỗi a mới\n",
    "\n",
    "Ví dụ:\n",
    "\n",
    "chuoi1 = \"xin chào các bạn, các bạn có khỏe không?\"\n",
    "\n",
    "chuoi2 = \"các bạn\"\n",
    "\n",
    "chuoi3 = remove_string(chuoi1,chuoi2)\n",
    "\n",
    "print(chuoi3)\n",
    "\n",
    "Kết quả in ra là:\n",
    "xin chào ,  có khỏe không\n"
   ]
  },
  {
   "cell_type": "code",
   "execution_count": 9,
   "id": "369a5997",
   "metadata": {},
   "outputs": [
    {
     "name": "stdout",
     "output_type": "stream",
     "text": [
      "xin chào ,  có khỏe không?\n"
     ]
    }
   ],
   "source": [
    "def remove_string(a, b):\n",
    "    if b in a :\n",
    "        a = a.replace(b, \"\")\n",
    "    return a\n",
    "chuoi1 = \"xin chào các bạn, các bạn có khỏe không?\"\n",
    "\n",
    "chuoi2 = \"các bạn\"\n",
    "\n",
    "chuoi3 = remove_string(chuoi1,chuoi2)\n",
    "print(chuoi3)"
   ]
  },
  {
   "cell_type": "markdown",
   "id": "827d9363",
   "metadata": {},
   "source": [
    "Bài 3: VIết hàm nhập vào 4 số nguyên và trả về giá trị lớn thư nhì trong 4 số đó"
   ]
  },
  {
   "cell_type": "code",
   "execution_count": 12,
   "id": "268a1323",
   "metadata": {
    "scrolled": true
   },
   "outputs": [
    {
     "data": {
      "text/plain": [
       "67"
      ]
     },
     "execution_count": 12,
     "metadata": {},
     "output_type": "execute_result"
    }
   ],
   "source": [
    "def find_second_max(a, b, c, d):\n",
    "    value = [a, b, c, d]\n",
    "    value.sort()\n",
    "    return value[-2]\n",
    "find_second_max(45, 56, 67, 85)"
   ]
  },
  {
   "cell_type": "code",
   "execution_count": 19,
   "id": "a5cc2cf3",
   "metadata": {},
   "outputs": [
    {
     "data": {
      "text/plain": [
       "67"
      ]
     },
     "execution_count": 19,
     "metadata": {},
     "output_type": "execute_result"
    }
   ],
   "source": [
    "def find_second_max(a, b, c, d):\n",
    "    max_1 = a\n",
    "    if b > max_1:\n",
    "        max_1 = b\n",
    "    if c > max_1:\n",
    "        max_1 = c\n",
    "    if d > max_1:\n",
    "        max_1 = d\n",
    "        \n",
    "    max_2 = a\n",
    "    if b > max_2 and b < max_1:\n",
    "        max_2 = b\n",
    "    if c > max_2 and c < max_1:\n",
    "        max_2 = c\n",
    "    if d > max_2 and d < max_1:\n",
    "        max_1 = d\n",
    "    return max_2\n",
    "find_second_max(45, 56, 67, 85)"
   ]
  },
  {
   "cell_type": "markdown",
   "id": "18d59636",
   "metadata": {},
   "source": [
    "Bài 4 : treepersqkm là 1 dictionary hiển thị số lượng cây trên mỗi km vuông ở các quóc gia khác nhau. Hãy viết 1 hàm nhận vào dictionary này và trả về danh sách tên các quốc gia có hơn 20000 cây trên mỗi km vuông"
   ]
  },
  {
   "cell_type": "code",
   "execution_count": 23,
   "id": "7055e4b9",
   "metadata": {},
   "outputs": [
    {
     "data": {
      "text/plain": [
       "['Finland', 'Taiwan']"
      ]
     },
     "execution_count": 23,
     "metadata": {},
     "output_type": "execute_result"
    }
   ],
   "source": [
    "treepersqkm = {\"Finland\": 90652, \"Taiwan\": 69593, \"Japan\": 49894, \"Russia\": 41396, \"Brazil\": 39542, \"Canada\": 36388, \"Bulgaria\": 24987, \"France\": 24436, \"Greece\": 24323, \"United States\": 23513, \"Turkey\": 11126, \"India\": 11109, \"Denmark\": 6129, \"Syria\": 534, \"Saudi Arabia\": 1}\n",
    "def filter_countries(data):\n",
    "    result = []\n",
    "    for key in data:\n",
    "        if data[key] > 50000:\n",
    "            result.append(key)\n",
    "    return result\n",
    "filter_countries(treepersqkm)        "
   ]
  }
 ],
 "metadata": {
  "kernelspec": {
   "display_name": "Python 3 (ipykernel)",
   "language": "python",
   "name": "python3"
  },
  "language_info": {
   "codemirror_mode": {
    "name": "ipython",
    "version": 3
   },
   "file_extension": ".py",
   "mimetype": "text/x-python",
   "name": "python",
   "nbconvert_exporter": "python",
   "pygments_lexer": "ipython3",
   "version": "3.10.2"
  }
 },
 "nbformat": 4,
 "nbformat_minor": 5
}
