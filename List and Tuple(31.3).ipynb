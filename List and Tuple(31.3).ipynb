{
 "cells": [
  {
   "cell_type": "markdown",
   "metadata": {},
   "source": [
    "## Review: type()"
   ]
  },
  {
   "cell_type": "code",
   "execution_count": null,
   "metadata": {},
   "outputs": [],
   "source": [
    "# Python có 4 kiểu dữ liệu cơ bản\n",
    "int\n",
    "float\n",
    "str\n",
    "bool"
   ]
  },
  {
   "cell_type": "markdown",
   "metadata": {},
   "source": [
    "## list là gì?"
   ]
  },
  {
   "cell_type": "code",
   "execution_count": null,
   "metadata": {},
   "outputs": [],
   "source": [
    "# Ví dụ\n",
    "van = 7\n",
    "toan = 8\n",
    "anh = 6.5"
   ]
  },
  {
   "cell_type": "code",
   "execution_count": null,
   "metadata": {},
   "outputs": [],
   "source": [
    "# Sử dụng list\n",
    "[1, 2, 3]\n",
    "[\"khanh\", \" nha\", \"trang\"]"
   ]
  },
  {
   "cell_type": "code",
   "execution_count": 5,
   "metadata": {},
   "outputs": [
    {
     "name": "stdout",
     "output_type": "stream",
     "text": [
      "monday\n",
      "tuesday\n",
      "sunday\n",
      "------------------------------\n",
      "monday\n",
      "tuesday\n",
      "sunday\n"
     ]
    }
   ],
   "source": [
    "day = [\"monday\", \"tuesday\", \"sunday\"]\n",
    "\n",
    "for i in day:\n",
    "    print(i)\n",
    "print(\"-\" * 30)\n",
    "\n",
    "for i in range(len(day)):\n",
    "    print(day[i])"
   ]
  },
  {
   "cell_type": "markdown",
   "metadata": {},
   "source": [
    "# Thực hành: Viết chương trình tạo ra một list các string khác nhau và đếm tổng số lượng string dài hơn 3 kí tự"
   ]
  },
  {
   "cell_type": "code",
   "execution_count": 7,
   "metadata": {},
   "outputs": [
    {
     "name": "stdout",
     "output_type": "stream",
     "text": [
      "có 3 string dài hơn 3 kí tự\n"
     ]
    }
   ],
   "source": [
    "list_string = [\"meo\", \"cho\", \"ho\", \"de\", \"bo\"]\n",
    "count = 0\n",
    "for i in range(len(list_string)):\n",
    "    if len(list_string[i]) < 3:\n",
    "        count += 1\n",
    "print(f\"có {count} string dài hơn 3 kí tự\")"
   ]
  },
  {
   "cell_type": "markdown",
   "metadata": {},
   "source": [
    "### Thực hành 2: Viết chương trình nhận vào 2 list và trả về True nếu 2 list có ít nhất 1 phần tử chung, ngược lại trả về False"
   ]
  },
  {
   "cell_type": "code",
   "execution_count": null,
   "metadata": {},
   "outputs": [],
   "source": []
  },
  {
   "cell_type": "markdown",
   "metadata": {},
   "source": [
    "## Các thao tác cơ bản với list"
   ]
  },
  {
   "cell_type": "markdown",
   "metadata": {},
   "source": [
    "### Kiểm tra độ dài list"
   ]
  },
  {
   "cell_type": "code",
   "execution_count": 8,
   "metadata": {},
   "outputs": [
    {
     "name": "stdout",
     "output_type": "stream",
     "text": [
      "6\n"
     ]
    }
   ],
   "source": [
    "num = [0 ,1, 2, 3, 4, 5]\n",
    "print(len(num))"
   ]
  },
  {
   "cell_type": "markdown",
   "metadata": {},
   "source": [
    "### Truy cập phần tử trên list"
   ]
  },
  {
   "cell_type": "code",
   "execution_count": 11,
   "metadata": {},
   "outputs": [
    {
     "name": "stdout",
     "output_type": "stream",
     "text": [
      "6\n",
      "[0, 1, 8, 3, 4, 5]\n"
     ]
    }
   ],
   "source": [
    "num = [0 ,1, 2, 3, 4, 5]\n",
    "print(len(num))\n",
    "num[2] = 8\n",
    "print(num)"
   ]
  },
  {
   "cell_type": "markdown",
   "metadata": {},
   "source": [
    "### Thực hành: Tạo một list 10 số tự nhiên và in ra các phần tử trong list"
   ]
  },
  {
   "cell_type": "code",
   "execution_count": 9,
   "metadata": {},
   "outputs": [
    {
     "name": "stdout",
     "output_type": "stream",
     "text": [
      "0 1 2 3 4 5 6 7 8 9 "
     ]
    }
   ],
   "source": [
    "num = [0 ,1, 2, 3, 4, 5, 6, 7 ,8 ,9]\n",
    "for i in num:\n",
    "    print(i, end=\" \")"
   ]
  },
  {
   "cell_type": "markdown",
   "metadata": {},
   "source": [
    "### Thực hành 2: Tạo ra một list con chưa 2 phần tử cuối cùng từ list đã tạo ở trên"
   ]
  },
  {
   "cell_type": "code",
   "execution_count": 4,
   "metadata": {},
   "outputs": [
    {
     "name": "stdout",
     "output_type": "stream",
     "text": [
      "[8, 9]\n"
     ]
    }
   ],
   "source": [
    "num = [0 ,1, 2, 3, 4, 5, 6, 7 ,8 ,9]\n",
    "list_con = num[-2:]\n",
    "print(list_con)"
   ]
  },
  {
   "cell_type": "markdown",
   "metadata": {},
   "source": [
    "### Cộng list"
   ]
  },
  {
   "cell_type": "code",
   "execution_count": 6,
   "metadata": {},
   "outputs": [
    {
     "name": "stdout",
     "output_type": "stream",
     "text": [
      "[1, 2, 3, 4, 5, 6]\n",
      "[1, 2, 3, 1, 2, 3, 1, 2, 3]\n"
     ]
    }
   ],
   "source": [
    "a = [1,2,3]\n",
    "b = [4,5,6]\n",
    "c = a + b\n",
    "print(c)\n",
    "\n",
    "d = a * 3\n",
    "print(d)"
   ]
  },
  {
   "cell_type": "markdown",
   "metadata": {},
   "source": [
    "### Thực hành: Thêm học sinh vào lớp"
   ]
  },
  {
   "cell_type": "code",
   "execution_count": 24,
   "metadata": {},
   "outputs": [
    {
     "name": "stdout",
     "output_type": "stream",
     "text": [
      "['phong', 'phu', 'khanh', 'trang', 'trung', 'Tam']\n",
      "['phong', 'phu', 'khanh', 'trang', 'trung', 'Tam', 'Nha']\n",
      "['phong', 'phu', 'khanh', 'trang', 'trung', 'Tam', 'Nha', 'trung', 'Tam']\n"
     ]
    }
   ],
   "source": [
    "# tạo list danh_sach_lop chứa tên của 4 học sinh khác nhau và một list hoc_sinh_moi \n",
    "# chứa tên của 2 hs mới vào lớp. Hãy thêm các học sinh mới vào list danh_sach_lop bằn cách cộng list\n",
    "\n",
    "danh_sach_lop = [\"phong\", \"phu\", \"khanh\", \"trang\"]\n",
    "danh_sach_moi = [\"trung\", \"Tam\"]\n",
    "danh_sach_lop += danh_sach_moi\n",
    "print(danh_sach_lop)\n",
    "\n",
    "danh_sach_lop.append(\"Nha\")\n",
    "print(danh_sach_lop)\n",
    "\n",
    "danh_sach_lop.extend(danh_sach_moi)\n",
    "print(danh_sach_lop)\n",
    "danh_sach_lop.pop()"
   ]
  },
  {
   "cell_type": "markdown",
   "metadata": {},
   "source": [
    "### Kiểm tra phần tử tồn tại trong list"
   ]
  },
  {
   "cell_type": "code",
   "execution_count": 10,
   "metadata": {},
   "outputs": [
    {
     "name": "stdout",
     "output_type": "stream",
     "text": [
      "False\n"
     ]
    }
   ],
   "source": [
    "student_list = [\"phong\", \"phu\", \"khanh\", \"trang\"]\n",
    "print(\"khan\" in student_list)"
   ]
  },
  {
   "cell_type": "markdown",
   "metadata": {},
   "source": [
    "### Xóa phần tử khỏi list"
   ]
  },
  {
   "cell_type": "code",
   "execution_count": 19,
   "metadata": {},
   "outputs": [
    {
     "name": "stdout",
     "output_type": "stream",
     "text": [
      "[2, 3, 1]\n",
      "[2, 3, 1]\n"
     ]
    }
   ],
   "source": [
    "a = [1,2,3,1]\n",
    "a.remove(1)\n",
    "print(a)\n",
    "\n",
    "a = [1,2,3,1]\n",
    "del a[0]\n",
    "print(a)"
   ]
  },
  {
   "cell_type": "markdown",
   "metadata": {},
   "source": [
    "### Sắp xếp list"
   ]
  },
  {
   "cell_type": "code",
   "execution_count": 21,
   "metadata": {
    "scrolled": true
   },
   "outputs": [
    {
     "name": "stdout",
     "output_type": "stream",
     "text": [
      "list before sort: [21, 98, 45, 79, 12, 5]\n",
      "list before sort: [5, 12, 21, 45, 79, 98]\n",
      "list before sort: [98, 79, 45, 21, 12, 5]\n"
     ]
    }
   ],
   "source": [
    "a = [21, 98, 45, 79, 12, 5]\n",
    "#cach 1: sort()\n",
    "print(f\"list before sort: {a}\")\n",
    "a.sort()\n",
    "print(f\"list before sort: {a}\")\n",
    "a.sort(reverse = True)\n",
    "print(f\"list before sort: {a}\")\n",
    "\n",
    "\n"
   ]
  },
  {
   "cell_type": "code",
   "execution_count": 22,
   "metadata": {},
   "outputs": [
    {
     "name": "stdout",
     "output_type": "stream",
     "text": [
      "List a: [21, 98, 45, 79, 12, 5]\n",
      "List b: [5, 12, 21, 45, 79, 98]\n"
     ]
    }
   ],
   "source": [
    "# cach 2: sorted()\n",
    "a = [21, 98, 45, 79, 12, 5]\n",
    "b = sorted(a)\n",
    "print(f\"List a: {a}\")\n",
    "print(f\"List b: {b}\")"
   ]
  },
  {
   "cell_type": "markdown",
   "metadata": {},
   "source": [
    "### Làm rỗng list"
   ]
  },
  {
   "cell_type": "code",
   "execution_count": 23,
   "metadata": {},
   "outputs": [
    {
     "name": "stdout",
     "output_type": "stream",
     "text": [
      "[1, 2, 3]\n",
      "[]\n"
     ]
    }
   ],
   "source": [
    "a = [1, 2, 3]\n",
    "print(a)\n",
    "\n",
    "a.clear()\n",
    "print(a)"
   ]
  },
  {
   "cell_type": "markdown",
   "metadata": {},
   "source": [
    "### Copy list"
   ]
  },
  {
   "cell_type": "code",
   "execution_count": null,
   "metadata": {},
   "outputs": [],
   "source": []
  },
  {
   "cell_type": "markdown",
   "metadata": {},
   "source": [
    "## tuple"
   ]
  },
  {
   "cell_type": "code",
   "execution_count": 25,
   "metadata": {},
   "outputs": [
    {
     "name": "stdout",
     "output_type": "stream",
     "text": [
      "python\n",
      "3,5,7\n",
      "2\n"
     ]
    }
   ],
   "source": [
    "info = (\"python\", \"3,5,7\", 2)\n",
    "#unpack tuple\n",
    "course, day, duration = info\n",
    "print(course)\n",
    "print(day)\n",
    "print(duration)"
   ]
  }
 ],
 "metadata": {
  "kernelspec": {
   "display_name": "Python 3 (ipykernel)",
   "language": "python",
   "name": "python3"
  },
  "language_info": {
   "codemirror_mode": {
    "name": "ipython",
    "version": 3
   },
   "file_extension": ".py",
   "mimetype": "text/x-python",
   "name": "python",
   "nbconvert_exporter": "python",
   "pygments_lexer": "ipython3",
   "version": "3.10.2"
  }
 },
 "nbformat": 4,
 "nbformat_minor": 4
}
